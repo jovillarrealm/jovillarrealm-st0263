{
 "cells": [
  {
   "cell_type": "code",
   "execution_count": 1,
   "id": "1a4d7605",
   "metadata": {},
   "outputs": [
    {
     "name": "stdout",
     "output_type": "stream",
     "text": [
      "Starting Spark application\n"
     ]
    },
    {
     "data": {
      "text/html": [
       "<table>\n",
       "<tr><th>ID</th><th>YARN Application ID</th><th>Kind</th><th>State</th><th>Spark UI</th><th>Driver log</th><th>User</th><th>Current session?</th></tr><tr><td>14</td><td>application_1700859524548_0015</td><td>pyspark</td><td>idle</td><td><a target=\"_blank\" href=\"http://ip-172-31-65-124.ec2.internal:20888/proxy/application_1700859524548_0015/\">Link</a></td><td><a target=\"_blank\" href=\"http://ip-172-31-77-50.ec2.internal:8042/node/containerlogs/container_1700859524548_0015_01_000001/livy\">Link</a></td><td>None</td><td>✔</td></tr></table>"
      ],
      "text/plain": [
       "<IPython.core.display.HTML object>"
      ]
     },
     "metadata": {},
     "output_type": "display_data"
    },
    {
     "data": {
      "application/vnd.jupyter.widget-view+json": {
       "model_id": "",
       "version_major": 2,
       "version_minor": 0
      },
      "text/plain": [
       "FloatProgress(value=0.0, bar_style='info', description='Progress:', layout=Layout(height='25px', width='50%'),…"
      ]
     },
     "metadata": {},
     "output_type": "display_data"
    },
    {
     "name": "stdout",
     "output_type": "stream",
     "text": [
      "SparkSession available as 'spark'.\n"
     ]
    },
    {
     "data": {
      "application/vnd.jupyter.widget-view+json": {
       "model_id": "",
       "version_major": 2,
       "version_minor": 0
      },
      "text/plain": [
       "FloatProgress(value=0.0, bar_style='info', description='Progress:', layout=Layout(height='25px', width='50%'),…"
      ]
     },
     "metadata": {},
     "output_type": "display_data"
    }
   ],
   "source": [
    "from pyspark.sql import SparkSession"
   ]
  },
  {
   "cell_type": "code",
   "execution_count": 2,
   "id": "9022d78f",
   "metadata": {},
   "outputs": [
    {
     "data": {
      "application/vnd.jupyter.widget-view+json": {
       "model_id": "",
       "version_major": 2,
       "version_minor": 0
      },
      "text/plain": [
       "FloatProgress(value=0.0, bar_style='info', description='Progress:', layout=Layout(height='25px', width='50%'),…"
      ]
     },
     "metadata": {},
     "output_type": "display_data"
    }
   ],
   "source": [
    "spark = SparkSession.builder.master(\"local[*]\").getOrCreate()\n",
    "sc = spark.sparkContext"
   ]
  },
  {
   "cell_type": "code",
   "execution_count": 3,
   "id": "34e07837",
   "metadata": {},
   "outputs": [
    {
     "data": {
      "application/vnd.jupyter.widget-view+json": {
       "model_id": "",
       "version_major": 2,
       "version_minor": 0
      },
      "text/plain": [
       "FloatProgress(value=0.0, bar_style='info', description='Progress:', layout=Layout(height='25px', width='50%'),…"
      ]
     },
     "metadata": {},
     "output_type": "display_data"
    },
    {
     "name": "stdout",
     "output_type": "stream",
     "text": [
      "<pyspark.sql.session.SparkSession object at 0x7f9ebf9f7a10>"
     ]
    }
   ],
   "source": [
    "spark"
   ]
  },
  {
   "cell_type": "code",
   "execution_count": 4,
   "id": "73ab57d4",
   "metadata": {},
   "outputs": [
    {
     "data": {
      "application/vnd.jupyter.widget-view+json": {
       "model_id": "",
       "version_major": 2,
       "version_minor": 0
      },
      "text/plain": [
       "FloatProgress(value=0.0, bar_style='info', description='Progress:', layout=Layout(height='25px', width='50%'),…"
      ]
     },
     "metadata": {},
     "output_type": "display_data"
    },
    {
     "name": "stdout",
     "output_type": "stream",
     "text": [
      "<SparkContext master=yarn appName=livy-session-14>"
     ]
    }
   ],
   "source": [
    "sc"
   ]
  },
  {
   "cell_type": "code",
   "execution_count": 5,
   "id": "e3fefe1b",
   "metadata": {},
   "outputs": [
    {
     "data": {
      "application/vnd.jupyter.widget-view+json": {
       "model_id": "",
       "version_major": 2,
       "version_minor": 0
      },
      "text/plain": [
       "FloatProgress(value=0.0, bar_style='info', description='Progress:', layout=Layout(height='25px', width='50%'),…"
      ]
     },
     "metadata": {},
     "output_type": "display_data"
    }
   ],
   "source": [
    "df=spark.read.csv(\"s3://jupyterjorge/raw/datasets/covid19/Casos_positivos_de_COVID-19_en_Colombia-1K.csv\",inferSchema=True,header=True)"
   ]
  },
  {
   "cell_type": "code",
   "execution_count": 6,
   "id": "a5a4d459",
   "metadata": {},
   "outputs": [
    {
     "data": {
      "application/vnd.jupyter.widget-view+json": {
       "model_id": "",
       "version_major": 2,
       "version_minor": 0
      },
      "text/plain": [
       "FloatProgress(value=0.0, bar_style='info', description='Progress:', layout=Layout(height='25px', width='50%'),…"
      ]
     },
     "metadata": {},
     "output_type": "display_data"
    },
    {
     "name": "stdout",
     "output_type": "stream",
     "text": [
      "['fecha reporte web', 'ID de caso', 'Fecha de notificación', 'Código DIVIPOLA departamento', 'Nombre departamento', 'Código DIVIPOLA municipio', 'Nombre municipio', 'Edad', 'Unidad de medida de edad', 'Sexo', 'Tipo de contagio', 'Ubicación del caso', 'Estado', 'Código ISO del país', 'Nombre del país', 'Recuperado', 'Fecha de inicio de síntomas', 'Fecha de muerte', 'Fecha de diagnóstico', 'Fecha de recuperación', 'Tipo de recuperación', 'Pertenencia étnica', 'Nombre del grupo étnico']"
     ]
    }
   ],
   "source": [
    "#columns of dataframe\n",
    "df.columns"
   ]
  },
  {
   "cell_type": "code",
   "execution_count": 7,
   "id": "af4187fa",
   "metadata": {},
   "outputs": [
    {
     "data": {
      "application/vnd.jupyter.widget-view+json": {
       "model_id": "",
       "version_major": 2,
       "version_minor": 0
      },
      "text/plain": [
       "FloatProgress(value=0.0, bar_style='info', description='Progress:', layout=Layout(height='25px', width='50%'),…"
      ]
     },
     "metadata": {},
     "output_type": "display_data"
    },
    {
     "name": "stdout",
     "output_type": "stream",
     "text": [
      "23"
     ]
    }
   ],
   "source": [
    "#check number of columns\n",
    "len(df.columns)"
   ]
  },
  {
   "cell_type": "code",
   "execution_count": 8,
   "id": "fdce20b9",
   "metadata": {},
   "outputs": [
    {
     "data": {
      "application/vnd.jupyter.widget-view+json": {
       "model_id": "",
       "version_major": 2,
       "version_minor": 0
      },
      "text/plain": [
       "FloatProgress(value=0.0, bar_style='info', description='Progress:', layout=Layout(height='25px', width='50%'),…"
      ]
     },
     "metadata": {},
     "output_type": "display_data"
    },
    {
     "name": "stdout",
     "output_type": "stream",
     "text": [
      "1000"
     ]
    }
   ],
   "source": [
    "#number of records in dataframe\n",
    "df.count()"
   ]
  },
  {
   "cell_type": "code",
   "execution_count": 9,
   "id": "be5b28dc",
   "metadata": {},
   "outputs": [
    {
     "data": {
      "application/vnd.jupyter.widget-view+json": {
       "model_id": "",
       "version_major": 2,
       "version_minor": 0
      },
      "text/plain": [
       "FloatProgress(value=0.0, bar_style='info', description='Progress:', layout=Layout(height='25px', width='50%'),…"
      ]
     },
     "metadata": {},
     "output_type": "display_data"
    },
    {
     "name": "stdout",
     "output_type": "stream",
     "text": [
      "(1000, 23)"
     ]
    }
   ],
   "source": [
    "#shape of dataset\n",
    "print((df.count(),len(df.columns)))"
   ]
  },
  {
   "cell_type": "code",
   "execution_count": 10,
   "id": "c30e4837",
   "metadata": {},
   "outputs": [
    {
     "data": {
      "application/vnd.jupyter.widget-view+json": {
       "model_id": "",
       "version_major": 2,
       "version_minor": 0
      },
      "text/plain": [
       "FloatProgress(value=0.0, bar_style='info', description='Progress:', layout=Layout(height='25px', width='50%'),…"
      ]
     },
     "metadata": {},
     "output_type": "display_data"
    },
    {
     "name": "stdout",
     "output_type": "stream",
     "text": [
      "root\n",
      " |-- fecha reporte web: string (nullable = true)\n",
      " |-- ID de caso: integer (nullable = true)\n",
      " |-- Fecha de notificación: string (nullable = true)\n",
      " |-- Código DIVIPOLA departamento: integer (nullable = true)\n",
      " |-- Nombre departamento: string (nullable = true)\n",
      " |-- Código DIVIPOLA municipio: integer (nullable = true)\n",
      " |-- Nombre municipio: string (nullable = true)\n",
      " |-- Edad: integer (nullable = true)\n",
      " |-- Unidad de medida de edad: integer (nullable = true)\n",
      " |-- Sexo: string (nullable = true)\n",
      " |-- Tipo de contagio: string (nullable = true)\n",
      " |-- Ubicación del caso: string (nullable = true)\n",
      " |-- Estado: string (nullable = true)\n",
      " |-- Código ISO del país: integer (nullable = true)\n",
      " |-- Nombre del país: string (nullable = true)\n",
      " |-- Recuperado: string (nullable = true)\n",
      " |-- Fecha de inicio de síntomas: string (nullable = true)\n",
      " |-- Fecha de muerte: string (nullable = true)\n",
      " |-- Fecha de diagnóstico: string (nullable = true)\n",
      " |-- Fecha de recuperación: string (nullable = true)\n",
      " |-- Tipo de recuperación: string (nullable = true)\n",
      " |-- Pertenencia étnica: integer (nullable = true)\n",
      " |-- Nombre del grupo étnico: string (nullable = true)"
     ]
    }
   ],
   "source": [
    "#printSchema\n",
    "df.printSchema()"
   ]
  },
  {
   "cell_type": "code",
   "execution_count": 11,
   "id": "08da97bb",
   "metadata": {},
   "outputs": [
    {
     "data": {
      "application/vnd.jupyter.widget-view+json": {
       "model_id": "",
       "version_major": 2,
       "version_minor": 0
      },
      "text/plain": [
       "FloatProgress(value=0.0, bar_style='info', description='Progress:', layout=Layout(height='25px', width='50%'),…"
      ]
     },
     "metadata": {},
     "output_type": "display_data"
    },
    {
     "name": "stdout",
     "output_type": "stream",
     "text": [
      "+-----------------+----------+---------------------+----------------------------+-------------------+-------------------------+----------------+----+------------------------+----+----------------+------------------+------+-------------------+---------------+----------+---------------------------+---------------+--------------------+---------------------+--------------------+------------------+-----------------------+\n",
      "|fecha reporte web|ID de caso|Fecha de notificación|Código DIVIPOLA departamento|Nombre departamento|Código DIVIPOLA municipio|Nombre municipio|Edad|Unidad de medida de edad|Sexo|Tipo de contagio|Ubicación del caso|Estado|Código ISO del país|Nombre del país|Recuperado|Fecha de inicio de síntomas|Fecha de muerte|Fecha de diagnóstico|Fecha de recuperación|Tipo de recuperación|Pertenencia étnica|Nombre del grupo étnico|\n",
      "+-----------------+----------+---------------------+----------------------------+-------------------+-------------------------+----------------+----+------------------------+----+----------------+------------------+------+-------------------+---------------+----------+---------------------------+---------------+--------------------+---------------------+--------------------+------------------+-----------------------+\n",
      "| 6/3/2020 0:00:00|         1|     2/3/2020 0:00:00|                          11|             BOGOTA|                    11001|          BOGOTA|  19|                       1|   F|       Importado|              Casa|  Leve|                380|         ITALIA|Recuperado|          27/2/2020 0:00:00|           null|    6/3/2020 0:00:00|    13/3/2020 0:00:00|                 PCR|                 6|                   null|\n",
      "| 9/3/2020 0:00:00|         2|     6/3/2020 0:00:00|                          76|              VALLE|                    76111|            BUGA|  34|                       1|   M|       Importado|              Casa|  Leve|                724|         ESPAÑA|Recuperado|           4/3/2020 0:00:00|           null|    9/3/2020 0:00:00|    19/3/2020 0:00:00|                 PCR|                 5|                   null|\n",
      "| 9/3/2020 0:00:00|         3|     7/3/2020 0:00:00|                           5|          ANTIOQUIA|                     5001|        MEDELLIN|  50|                       1|   F|       Importado|              Casa|  Leve|                724|         ESPAÑA|Recuperado|          29/2/2020 0:00:00|           null|    9/3/2020 0:00:00|    15/3/2020 0:00:00|                 PCR|                 6|                   null|\n",
      "|11/3/2020 0:00:00|         4|     9/3/2020 0:00:00|                           5|          ANTIOQUIA|                     5001|        MEDELLIN|  55|                       1|   M|     Relacionado|              Casa|  Leve|               null|           null|Recuperado|           6/3/2020 0:00:00|           null|   11/3/2020 0:00:00|    26/3/2020 0:00:00|                 PCR|                 6|                   null|\n",
      "|11/3/2020 0:00:00|         5|     9/3/2020 0:00:00|                           5|          ANTIOQUIA|                     5001|        MEDELLIN|  25|                       1|   M|     Relacionado|              Casa|  Leve|               null|           null|Recuperado|           8/3/2020 0:00:00|           null|   11/3/2020 0:00:00|    23/3/2020 0:00:00|                 PCR|                 6|                   null|\n",
      "+-----------------+----------+---------------------+----------------------------+-------------------+-------------------------+----------------+----+------------------------+----+----------------+------------------+------+-------------------+---------------+----------+---------------------------+---------------+--------------------+---------------------+--------------------+------------------+-----------------------+\n",
      "only showing top 5 rows"
     ]
    }
   ],
   "source": [
    "#fisrt few rows of dataframe\n",
    "df.show(5)"
   ]
  },
  {
   "cell_type": "code",
   "execution_count": 13,
   "id": "aadc5d43",
   "metadata": {},
   "outputs": [
    {
     "data": {
      "application/vnd.jupyter.widget-view+json": {
       "model_id": "",
       "version_major": 2,
       "version_minor": 0
      },
      "text/plain": [
       "FloatProgress(value=0.0, bar_style='info', description='Progress:', layout=Layout(height='25px', width='50%'),…"
      ]
     },
     "metadata": {},
     "output_type": "display_data"
    },
    {
     "name": "stdout",
     "output_type": "stream",
     "text": [
      "+-------------------+----------------+\n",
      "|Nombre departamento|Nombre municipio|\n",
      "+-------------------+----------------+\n",
      "|             BOGOTA|          BOGOTA|\n",
      "|              VALLE|            BUGA|\n",
      "|          ANTIOQUIA|        MEDELLIN|\n",
      "|          ANTIOQUIA|        MEDELLIN|\n",
      "|          ANTIOQUIA|        MEDELLIN|\n",
      "+-------------------+----------------+\n",
      "only showing top 5 rows"
     ]
    }
   ],
   "source": [
    "\n",
    "#select only 2 columns\n",
    "df.select('Nombre departamento','Nombre municipio').show(5)"
   ]
  },
  {
   "cell_type": "code",
   "execution_count": 14,
   "id": "b52fe7fd",
   "metadata": {},
   "outputs": [
    {
     "data": {
      "application/vnd.jupyter.widget-view+json": {
       "model_id": "",
       "version_major": 2,
       "version_minor": 0
      },
      "text/plain": [
       "FloatProgress(value=0.0, bar_style='info', description='Progress:', layout=Layout(height='25px', width='50%'),…"
      ]
     },
     "metadata": {},
     "output_type": "display_data"
    },
    {
     "name": "stdout",
     "output_type": "stream",
     "text": [
      "+-------+-----------------+-----------------+---------------------+----------------------------+-------------------+-------------------------+----------------+-----------------+------------------------+----+----------------+------------------+---------+-------------------+---------------+----------+---------------------------+----------------+--------------------+---------------------+--------------------+------------------+-----------------------+\n",
      "|summary|fecha reporte web|       ID de caso|Fecha de notificación|Código DIVIPOLA departamento|Nombre departamento|Código DIVIPOLA municipio|Nombre municipio|             Edad|Unidad de medida de edad|Sexo|Tipo de contagio|Ubicación del caso|   Estado|Código ISO del país|Nombre del país|Recuperado|Fecha de inicio de síntomas| Fecha de muerte|Fecha de diagnóstico|Fecha de recuperación|Tipo de recuperación|Pertenencia étnica|Nombre del grupo étnico|\n",
      "+-------+-----------------+-----------------+---------------------+----------------------------+-------------------+-------------------------+----------------+-----------------+------------------------+----+----------------+------------------+---------+-------------------+---------------+----------+---------------------------+----------------+--------------------+---------------------+--------------------+------------------+-----------------------+\n",
      "|  count|             1000|             1000|                 1000|                        1000|               1000|                     1000|            1000|             1000|                    1000|1000|            1000|              1000|     1000|                477|            477|      1000|                        956|              52|                1000|                  950|                 950|              1000|                     14|\n",
      "|   mean|             null|            500.5|                 null|                    1299.711|               null|                28988.072|            null|           42.128|                   1.001|null|            null|              null|     null|   640.125786163522|           null|      null|                       null|            null|                null|                 null|                null|               5.9|                   null|\n",
      "| stddev|             null|288.8194360957494|                 null|           5587.488777287644|               null|       26747.800488409954|            null|16.90068783361342|    0.031622776601683805|null|            null|              null|     null| 219.64837471365254|           null|      null|                       null|            null|                null|                 null|                null|0.6134952130020056|                   null|\n",
      "|    min| 1/4/2020 0:00:00|                1|     1/4/2020 0:00:00|                           5|          ANTIOQUIA|                     5001|        ANAPOIMA|                1|                       1|   F|     Comunitaria|              Casa|Fallecido|                 32|       ALEMANIA| Fallecido|          10/3/2020 0:00:00|1/4/2020 0:00:00|    1/4/2020 0:00:00|    1/10/2020 0:00:00|                 PCR|                 1|              NASA_PAÉZ|\n",
      "|    max| 9/3/2020 0:00:00|             1000|     9/3/2020 0:00:00|                       47001|              VALLE|                    88001|       ZIPAQUIRA|               88|                       2|   M|     Relacionado|               N/A|      N/A|                862|      VENEZUELA|Recuperado|           9/3/2020 0:00:00|9/4/2020 0:00:00|    9/3/2020 0:00:00|     9/6/2020 0:00:00|              Tiempo|                 6|                   ZENU|\n",
      "+-------+-----------------+-----------------+---------------------+----------------------------+-------------------+-------------------------+----------------+-----------------+------------------------+----+----------------+------------------+---------+-------------------+---------------+----------+---------------------------+----------------+--------------------+---------------------+--------------------+------------------+-----------------------+"
     ]
    }
   ],
   "source": [
    "#info about dataframe\n",
    "df.describe().show()"
   ]
  },
  {
   "cell_type": "code",
   "execution_count": 15,
   "id": "3fab76af",
   "metadata": {},
   "outputs": [
    {
     "data": {
      "application/vnd.jupyter.widget-view+json": {
       "model_id": "",
       "version_major": 2,
       "version_minor": 0
      },
      "text/plain": [
       "FloatProgress(value=0.0, bar_style='info', description='Progress:', layout=Layout(height='25px', width='50%'),…"
      ]
     },
     "metadata": {},
     "output_type": "display_data"
    }
   ],
   "source": [
    "from pyspark.sql.types import StringType,DoubleType,IntegerType"
   ]
  },
  {
   "cell_type": "code",
   "execution_count": 16,
   "id": "029a4a11",
   "metadata": {},
   "outputs": [
    {
     "data": {
      "application/vnd.jupyter.widget-view+json": {
       "model_id": "",
       "version_major": 2,
       "version_minor": 0
      },
      "text/plain": [
       "FloatProgress(value=0.0, bar_style='info', description='Progress:', layout=Layout(height='25px', width='50%'),…"
      ]
     },
     "metadata": {},
     "output_type": "display_data"
    },
    {
     "name": "stdout",
     "output_type": "stream",
     "text": [
      "+-----------------+----------+---------------------+----------------------------+-------------------+-------------------------+----------------+----+------------------------+----+----------------+------------------+------+-------------------+-------------------------+----------+---------------------------+---------------+--------------------+---------------------+--------------------+------------------+-----------------------+-----------------+\n",
      "|fecha reporte web|ID de caso|Fecha de notificación|Código DIVIPOLA departamento|Nombre departamento|Código DIVIPOLA municipio|Nombre municipio|Edad|Unidad de medida de edad|Sexo|Tipo de contagio|Ubicación del caso|Estado|Código ISO del país|Nombre del país          |Recuperado|Fecha de inicio de síntomas|Fecha de muerte|Fecha de diagnóstico|Fecha de recuperación|Tipo de recuperación|Pertenencia étnica|Nombre del grupo étnico|Edad_after_10_yrs|\n",
      "+-----------------+----------+---------------------+----------------------------+-------------------+-------------------------+----------------+----+------------------------+----+----------------+------------------+------+-------------------+-------------------------+----------+---------------------------+---------------+--------------------+---------------------+--------------------+------------------+-----------------------+-----------------+\n",
      "|6/3/2020 0:00:00 |1         |2/3/2020 0:00:00     |11                          |BOGOTA             |11001                    |BOGOTA          |19  |1                       |F   |Importado       |Casa              |Leve  |380                |ITALIA                   |Recuperado|27/2/2020 0:00:00          |null           |6/3/2020 0:00:00    |13/3/2020 0:00:00    |PCR                 |6                 |null                   |29               |\n",
      "|9/3/2020 0:00:00 |2         |6/3/2020 0:00:00     |76                          |VALLE              |76111                    |BUGA            |34  |1                       |M   |Importado       |Casa              |Leve  |724                |ESPAÑA                   |Recuperado|4/3/2020 0:00:00           |null           |9/3/2020 0:00:00    |19/3/2020 0:00:00    |PCR                 |5                 |null                   |44               |\n",
      "|9/3/2020 0:00:00 |3         |7/3/2020 0:00:00     |5                           |ANTIOQUIA          |5001                     |MEDELLIN        |50  |1                       |F   |Importado       |Casa              |Leve  |724                |ESPAÑA                   |Recuperado|29/2/2020 0:00:00          |null           |9/3/2020 0:00:00    |15/3/2020 0:00:00    |PCR                 |6                 |null                   |60               |\n",
      "|11/3/2020 0:00:00|4         |9/3/2020 0:00:00     |5                           |ANTIOQUIA          |5001                     |MEDELLIN        |55  |1                       |M   |Relacionado     |Casa              |Leve  |null               |null                     |Recuperado|6/3/2020 0:00:00           |null           |11/3/2020 0:00:00   |26/3/2020 0:00:00    |PCR                 |6                 |null                   |65               |\n",
      "|11/3/2020 0:00:00|5         |9/3/2020 0:00:00     |5                           |ANTIOQUIA          |5001                     |MEDELLIN        |25  |1                       |M   |Relacionado     |Casa              |Leve  |null               |null                     |Recuperado|8/3/2020 0:00:00           |null           |11/3/2020 0:00:00   |23/3/2020 0:00:00    |PCR                 |6                 |null                   |35               |\n",
      "|11/3/2020 0:00:00|6         |10/3/2020 0:00:00    |5                           |ANTIOQUIA          |5360                     |ITAGUI          |27  |1                       |F   |Relacionado     |Casa              |Leve  |null               |null                     |Recuperado|6/3/2020 0:00:00           |null           |11/3/2020 0:00:00   |26/3/2020 0:00:00    |PCR                 |6                 |null                   |37               |\n",
      "|11/3/2020 0:00:00|7         |8/3/2020 0:00:00     |13001                       |CARTAGENA          |13001                    |CARTAGENA       |85  |1                       |F   |Importado       |Casa              |Leve  |840                |ESTADOS UNIDOS DE AMÉRICA|Recuperado|2/3/2020 0:00:00           |null           |11/3/2020 0:00:00   |17/3/2020 0:00:00    |PCR                 |6                 |null                   |95               |\n",
      "|11/3/2020 0:00:00|8         |9/3/2020 0:00:00     |11                          |BOGOTA             |11001                    |BOGOTA          |22  |1                       |F   |Importado       |Casa              |Leve  |724                |ESPAÑA                   |Recuperado|6/3/2020 0:00:00           |null           |11/3/2020 0:00:00   |21/3/2020 0:00:00    |PCR                 |6                 |null                   |32               |\n",
      "|11/3/2020 0:00:00|9         |8/3/2020 0:00:00     |11                          |BOGOTA             |11001                    |BOGOTA          |28  |1                       |F   |Importado       |Casa              |Leve  |724                |ESPAÑA                   |Recuperado|7/3/2020 0:00:00           |null           |11/3/2020 0:00:00   |23/3/2020 0:00:00    |PCR                 |6                 |null                   |38               |\n",
      "|12/3/2020 0:00:00|10        |12/3/2020 0:00:00    |11                          |BOGOTA             |11001                    |BOGOTA          |36  |1                       |F   |Importado       |Casa              |Leve  |724                |ESPAÑA                   |Recuperado|6/3/2020 0:00:00           |null           |12/3/2020 0:00:00   |21/3/2020 0:00:00    |PCR                 |6                 |null                   |46               |\n",
      "+-----------------+----------+---------------------+----------------------------+-------------------+-------------------------+----------------+----+------------------------+----+----------------+------------------+------+-------------------+-------------------------+----------+---------------------------+---------------+--------------------+---------------------+--------------------+------------------+-----------------------+-----------------+\n",
      "only showing top 10 rows"
     ]
    }
   ],
   "source": [
    "#with column\n",
    "df.withColumn(\"Edad_after_10_yrs\",(df[\"Edad\"]+10)).show(10,False)"
   ]
  },
  {
   "cell_type": "code",
   "execution_count": 17,
   "id": "1e6ba6c6",
   "metadata": {},
   "outputs": [
    {
     "data": {
      "application/vnd.jupyter.widget-view+json": {
       "model_id": "",
       "version_major": 2,
       "version_minor": 0
      },
      "text/plain": [
       "FloatProgress(value=0.0, bar_style='info', description='Progress:', layout=Layout(height='25px', width='50%'),…"
      ]
     },
     "metadata": {},
     "output_type": "display_data"
    },
    {
     "name": "stdout",
     "output_type": "stream",
     "text": [
      "+-----------------+----------+---------------------+----------------------------+-------------------+-------------------------+----------------+----+------------------------+----+----------------+------------------+------+-------------------+-------------------------+----------+---------------------------+---------------+--------------------+---------------------+--------------------+------------------+-----------------------+-----------+\n",
      "|fecha reporte web|ID de caso|Fecha de notificación|Código DIVIPOLA departamento|Nombre departamento|Código DIVIPOLA municipio|Nombre municipio|Edad|Unidad de medida de edad|Sexo|Tipo de contagio|Ubicación del caso|Estado|Código ISO del país|Nombre del país          |Recuperado|Fecha de inicio de síntomas|Fecha de muerte|Fecha de diagnóstico|Fecha de recuperación|Tipo de recuperación|Pertenencia étnica|Nombre del grupo étnico|Edad_double|\n",
      "+-----------------+----------+---------------------+----------------------------+-------------------+-------------------------+----------------+----+------------------------+----+----------------+------------------+------+-------------------+-------------------------+----------+---------------------------+---------------+--------------------+---------------------+--------------------+------------------+-----------------------+-----------+\n",
      "|6/3/2020 0:00:00 |1         |2/3/2020 0:00:00     |11                          |BOGOTA             |11001                    |BOGOTA          |19  |1                       |F   |Importado       |Casa              |Leve  |380                |ITALIA                   |Recuperado|27/2/2020 0:00:00          |null           |6/3/2020 0:00:00    |13/3/2020 0:00:00    |PCR                 |6                 |null                   |19.0       |\n",
      "|9/3/2020 0:00:00 |2         |6/3/2020 0:00:00     |76                          |VALLE              |76111                    |BUGA            |34  |1                       |M   |Importado       |Casa              |Leve  |724                |ESPAÑA                   |Recuperado|4/3/2020 0:00:00           |null           |9/3/2020 0:00:00    |19/3/2020 0:00:00    |PCR                 |5                 |null                   |34.0       |\n",
      "|9/3/2020 0:00:00 |3         |7/3/2020 0:00:00     |5                           |ANTIOQUIA          |5001                     |MEDELLIN        |50  |1                       |F   |Importado       |Casa              |Leve  |724                |ESPAÑA                   |Recuperado|29/2/2020 0:00:00          |null           |9/3/2020 0:00:00    |15/3/2020 0:00:00    |PCR                 |6                 |null                   |50.0       |\n",
      "|11/3/2020 0:00:00|4         |9/3/2020 0:00:00     |5                           |ANTIOQUIA          |5001                     |MEDELLIN        |55  |1                       |M   |Relacionado     |Casa              |Leve  |null               |null                     |Recuperado|6/3/2020 0:00:00           |null           |11/3/2020 0:00:00   |26/3/2020 0:00:00    |PCR                 |6                 |null                   |55.0       |\n",
      "|11/3/2020 0:00:00|5         |9/3/2020 0:00:00     |5                           |ANTIOQUIA          |5001                     |MEDELLIN        |25  |1                       |M   |Relacionado     |Casa              |Leve  |null               |null                     |Recuperado|8/3/2020 0:00:00           |null           |11/3/2020 0:00:00   |23/3/2020 0:00:00    |PCR                 |6                 |null                   |25.0       |\n",
      "|11/3/2020 0:00:00|6         |10/3/2020 0:00:00    |5                           |ANTIOQUIA          |5360                     |ITAGUI          |27  |1                       |F   |Relacionado     |Casa              |Leve  |null               |null                     |Recuperado|6/3/2020 0:00:00           |null           |11/3/2020 0:00:00   |26/3/2020 0:00:00    |PCR                 |6                 |null                   |27.0       |\n",
      "|11/3/2020 0:00:00|7         |8/3/2020 0:00:00     |13001                       |CARTAGENA          |13001                    |CARTAGENA       |85  |1                       |F   |Importado       |Casa              |Leve  |840                |ESTADOS UNIDOS DE AMÉRICA|Recuperado|2/3/2020 0:00:00           |null           |11/3/2020 0:00:00   |17/3/2020 0:00:00    |PCR                 |6                 |null                   |85.0       |\n",
      "|11/3/2020 0:00:00|8         |9/3/2020 0:00:00     |11                          |BOGOTA             |11001                    |BOGOTA          |22  |1                       |F   |Importado       |Casa              |Leve  |724                |ESPAÑA                   |Recuperado|6/3/2020 0:00:00           |null           |11/3/2020 0:00:00   |21/3/2020 0:00:00    |PCR                 |6                 |null                   |22.0       |\n",
      "|11/3/2020 0:00:00|9         |8/3/2020 0:00:00     |11                          |BOGOTA             |11001                    |BOGOTA          |28  |1                       |F   |Importado       |Casa              |Leve  |724                |ESPAÑA                   |Recuperado|7/3/2020 0:00:00           |null           |11/3/2020 0:00:00   |23/3/2020 0:00:00    |PCR                 |6                 |null                   |28.0       |\n",
      "|12/3/2020 0:00:00|10        |12/3/2020 0:00:00    |11                          |BOGOTA             |11001                    |BOGOTA          |36  |1                       |F   |Importado       |Casa              |Leve  |724                |ESPAÑA                   |Recuperado|6/3/2020 0:00:00           |null           |12/3/2020 0:00:00   |21/3/2020 0:00:00    |PCR                 |6                 |null                   |36.0       |\n",
      "+-----------------+----------+---------------------+----------------------------+-------------------+-------------------------+----------------+----+------------------------+----+----------------+------------------+------+-------------------+-------------------------+----------+---------------------------+---------------+--------------------+---------------------+--------------------+------------------+-----------------------+-----------+\n",
      "only showing top 10 rows"
     ]
    }
   ],
   "source": [
    "df.withColumn('Edad_double',df['Edad'].cast(DoubleType())).show(10,False)"
   ]
  },
  {
   "cell_type": "code",
   "execution_count": 18,
   "id": "7e89af8d",
   "metadata": {},
   "outputs": [
    {
     "data": {
      "application/vnd.jupyter.widget-view+json": {
       "model_id": "",
       "version_major": 2,
       "version_minor": 0
      },
      "text/plain": [
       "FloatProgress(value=0.0, bar_style='info', description='Progress:', layout=Layout(height='25px', width='50%'),…"
      ]
     },
     "metadata": {},
     "output_type": "display_data"
    },
    {
     "name": "stdout",
     "output_type": "stream",
     "text": [
      "+-----------------+----------+---------------------+----------------------------+-------------------+-------------------------+----------------+----+------------------------+----+----------------+------------------+------+-------------------+-------------------------+----------+---------------------------+---------------+--------------------+---------------------+--------------------+------------------+-----------------------+-----------------+\n",
      "|fecha reporte web|ID de caso|Fecha de notificación|Código DIVIPOLA departamento|Nombre departamento|Código DIVIPOLA municipio|Nombre municipio|Edad|Unidad de medida de edad|Sexo|Tipo de contagio|Ubicación del caso|Estado|Código ISO del país|Nombre del país          |Recuperado|Fecha de inicio de síntomas|Fecha de muerte|Fecha de diagnóstico|Fecha de recuperación|Tipo de recuperación|Pertenencia étnica|Nombre del grupo étnico|Edad_after_10_yrs|\n",
      "+-----------------+----------+---------------------+----------------------------+-------------------+-------------------------+----------------+----+------------------------+----+----------------+------------------+------+-------------------+-------------------------+----------+---------------------------+---------------+--------------------+---------------------+--------------------+------------------+-----------------------+-----------------+\n",
      "|6/3/2020 0:00:00 |1         |2/3/2020 0:00:00     |11                          |BOGOTA             |11001                    |BOGOTA          |19  |1                       |F   |Importado       |Casa              |Leve  |380                |ITALIA                   |Recuperado|27/2/2020 0:00:00          |null           |6/3/2020 0:00:00    |13/3/2020 0:00:00    |PCR                 |6                 |null                   |29               |\n",
      "|9/3/2020 0:00:00 |2         |6/3/2020 0:00:00     |76                          |VALLE              |76111                    |BUGA            |34  |1                       |M   |Importado       |Casa              |Leve  |724                |ESPAÑA                   |Recuperado|4/3/2020 0:00:00           |null           |9/3/2020 0:00:00    |19/3/2020 0:00:00    |PCR                 |5                 |null                   |44               |\n",
      "|9/3/2020 0:00:00 |3         |7/3/2020 0:00:00     |5                           |ANTIOQUIA          |5001                     |MEDELLIN        |50  |1                       |F   |Importado       |Casa              |Leve  |724                |ESPAÑA                   |Recuperado|29/2/2020 0:00:00          |null           |9/3/2020 0:00:00    |15/3/2020 0:00:00    |PCR                 |6                 |null                   |60               |\n",
      "|11/3/2020 0:00:00|4         |9/3/2020 0:00:00     |5                           |ANTIOQUIA          |5001                     |MEDELLIN        |55  |1                       |M   |Relacionado     |Casa              |Leve  |null               |null                     |Recuperado|6/3/2020 0:00:00           |null           |11/3/2020 0:00:00   |26/3/2020 0:00:00    |PCR                 |6                 |null                   |65               |\n",
      "|11/3/2020 0:00:00|5         |9/3/2020 0:00:00     |5                           |ANTIOQUIA          |5001                     |MEDELLIN        |25  |1                       |M   |Relacionado     |Casa              |Leve  |null               |null                     |Recuperado|8/3/2020 0:00:00           |null           |11/3/2020 0:00:00   |23/3/2020 0:00:00    |PCR                 |6                 |null                   |35               |\n",
      "|11/3/2020 0:00:00|6         |10/3/2020 0:00:00    |5                           |ANTIOQUIA          |5360                     |ITAGUI          |27  |1                       |F   |Relacionado     |Casa              |Leve  |null               |null                     |Recuperado|6/3/2020 0:00:00           |null           |11/3/2020 0:00:00   |26/3/2020 0:00:00    |PCR                 |6                 |null                   |37               |\n",
      "|11/3/2020 0:00:00|7         |8/3/2020 0:00:00     |13001                       |CARTAGENA          |13001                    |CARTAGENA       |85  |1                       |F   |Importado       |Casa              |Leve  |840                |ESTADOS UNIDOS DE AMÉRICA|Recuperado|2/3/2020 0:00:00           |null           |11/3/2020 0:00:00   |17/3/2020 0:00:00    |PCR                 |6                 |null                   |95               |\n",
      "|11/3/2020 0:00:00|8         |9/3/2020 0:00:00     |11                          |BOGOTA             |11001                    |BOGOTA          |22  |1                       |F   |Importado       |Casa              |Leve  |724                |ESPAÑA                   |Recuperado|6/3/2020 0:00:00           |null           |11/3/2020 0:00:00   |21/3/2020 0:00:00    |PCR                 |6                 |null                   |32               |\n",
      "|11/3/2020 0:00:00|9         |8/3/2020 0:00:00     |11                          |BOGOTA             |11001                    |BOGOTA          |28  |1                       |F   |Importado       |Casa              |Leve  |724                |ESPAÑA                   |Recuperado|7/3/2020 0:00:00           |null           |11/3/2020 0:00:00   |23/3/2020 0:00:00    |PCR                 |6                 |null                   |38               |\n",
      "|12/3/2020 0:00:00|10        |12/3/2020 0:00:00    |11                          |BOGOTA             |11001                    |BOGOTA          |36  |1                       |F   |Importado       |Casa              |Leve  |724                |ESPAÑA                   |Recuperado|6/3/2020 0:00:00           |null           |12/3/2020 0:00:00   |21/3/2020 0:00:00    |PCR                 |6                 |null                   |46               |\n",
      "+-----------------+----------+---------------------+----------------------------+-------------------+-------------------------+----------------+----+------------------------+----+----------------+------------------+------+-------------------+-------------------------+----------+---------------------------+---------------+--------------------+---------------------+--------------------+------------------+-----------------------+-----------------+\n",
      "only showing top 10 rows"
     ]
    }
   ],
   "source": [
    "#with column\n",
    "df.withColumn(\"Edad_after_10_yrs\",(df[\"Edad\"]+10)).show(10,False)"
   ]
  },
  {
   "cell_type": "code",
   "execution_count": 23,
   "id": "b5ed3e42",
   "metadata": {},
   "outputs": [
    {
     "data": {
      "application/vnd.jupyter.widget-view+json": {
       "model_id": "",
       "version_major": 2,
       "version_minor": 0
      },
      "text/plain": [
       "FloatProgress(value=0.0, bar_style='info', description='Progress:', layout=Layout(height='25px', width='50%'),…"
      ]
     },
     "metadata": {},
     "output_type": "display_data"
    },
    {
     "name": "stdout",
     "output_type": "stream",
     "text": [
      "+-----------------+----------+---------------------+----------------------------+-------------------+-------------------------+----------------+----+------------------------+----+----------------+------------------+------+-------------------+--------------------+----------+---------------------------+---------------+--------------------+---------------------+--------------------+------------------+-----------------------+\n",
      "|fecha reporte web|ID de caso|Fecha de notificación|Código DIVIPOLA departamento|Nombre departamento|Código DIVIPOLA municipio|Nombre municipio|Edad|Unidad de medida de edad|Sexo|Tipo de contagio|Ubicación del caso|Estado|Código ISO del país|     Nombre del país|Recuperado|Fecha de inicio de síntomas|Fecha de muerte|Fecha de diagnóstico|Fecha de recuperación|Tipo de recuperación|Pertenencia étnica|Nombre del grupo étnico|\n",
      "+-----------------+----------+---------------------+----------------------------+-------------------+-------------------------+----------------+----+------------------------+----+----------------+------------------+------+-------------------+--------------------+----------+---------------------------+---------------+--------------------+---------------------+--------------------+------------------+-----------------------+\n",
      "| 6/3/2020 0:00:00|         1|     2/3/2020 0:00:00|                          11|             BOGOTA|                    11001|          BOGOTA|  19|                       1|   F|       Importado|              Casa|  Leve|                380|              ITALIA|Recuperado|          27/2/2020 0:00:00|           null|    6/3/2020 0:00:00|    13/3/2020 0:00:00|                 PCR|                 6|                   null|\n",
      "| 9/3/2020 0:00:00|         2|     6/3/2020 0:00:00|                          76|              VALLE|                    76111|            BUGA|  34|                       1|   M|       Importado|              Casa|  Leve|                724|              ESPAÑA|Recuperado|           4/3/2020 0:00:00|           null|    9/3/2020 0:00:00|    19/3/2020 0:00:00|                 PCR|                 5|                   null|\n",
      "| 9/3/2020 0:00:00|         3|     7/3/2020 0:00:00|                           5|          ANTIOQUIA|                     5001|        MEDELLIN|  50|                       1|   F|       Importado|              Casa|  Leve|                724|              ESPAÑA|Recuperado|          29/2/2020 0:00:00|           null|    9/3/2020 0:00:00|    15/3/2020 0:00:00|                 PCR|                 6|                   null|\n",
      "|11/3/2020 0:00:00|         7|     8/3/2020 0:00:00|                       13001|          CARTAGENA|                    13001|       CARTAGENA|  85|                       1|   F|       Importado|              Casa|  Leve|                840|ESTADOS UNIDOS DE...|Recuperado|           2/3/2020 0:00:00|           null|   11/3/2020 0:00:00|    17/3/2020 0:00:00|                 PCR|                 6|                   null|\n",
      "|11/3/2020 0:00:00|         8|     9/3/2020 0:00:00|                          11|             BOGOTA|                    11001|          BOGOTA|  22|                       1|   F|       Importado|              Casa|  Leve|                724|              ESPAÑA|Recuperado|           6/3/2020 0:00:00|           null|   11/3/2020 0:00:00|    21/3/2020 0:00:00|                 PCR|                 6|                   null|\n",
      "|11/3/2020 0:00:00|         9|     8/3/2020 0:00:00|                          11|             BOGOTA|                    11001|          BOGOTA|  28|                       1|   F|       Importado|              Casa|  Leve|                724|              ESPAÑA|Recuperado|           7/3/2020 0:00:00|           null|   11/3/2020 0:00:00|    23/3/2020 0:00:00|                 PCR|                 6|                   null|\n",
      "|12/3/2020 0:00:00|        10|    12/3/2020 0:00:00|                          11|             BOGOTA|                    11001|          BOGOTA|  36|                       1|   F|       Importado|              Casa|  Leve|                724|              ESPAÑA|Recuperado|           6/3/2020 0:00:00|           null|   12/3/2020 0:00:00|    21/3/2020 0:00:00|                 PCR|                 6|                   null|\n",
      "|12/3/2020 0:00:00|        11|    11/3/2020 0:00:00|                          11|             BOGOTA|                    11001|          BOGOTA|  42|                       1|   F|       Importado|              Casa|  Leve|                724|              ESPAÑA|Recuperado|           6/3/2020 0:00:00|           null|   12/3/2020 0:00:00|    31/3/2020 0:00:00|                 PCR|                 6|                   null|\n",
      "|12/3/2020 0:00:00|        12|    10/3/2020 0:00:00|                          41|              HUILA|                    41001|           NEIVA|  74|                       1|   F|       Importado|              Casa|  Leve|                380|              ITALIA|Recuperado|           6/3/2020 0:00:00|           null|   12/3/2020 0:00:00|     9/4/2020 0:00:00|                 PCR|                 6|                   null|\n",
      "|13/3/2020 0:00:00|        14|    10/3/2020 0:00:00|                          76|              VALLE|                    76520|         PALMIRA|  48|                       1|   M|       Importado|              Casa|  Leve|                724|              ESPAÑA|Recuperado|           7/3/2020 0:00:00|           null|   13/3/2020 0:00:00|    21/3/2020 0:00:00|                 PCR|                 5|                   null|\n",
      "|13/3/2020 0:00:00|        15|    13/3/2020 0:00:00|                          50|               META|                    50001|   VILLAVICENCIO|  30|                       1|   F|       Importado|              Casa|  Leve|                724|              ESPAÑA|Recuperado|           9/3/2020 0:00:00|           null|   13/3/2020 0:00:00|    23/3/2020 0:00:00|                 PCR|                 6|                   null|\n",
      "|13/3/2020 0:00:00|        16|    11/3/2020 0:00:00|                          11|             BOGOTA|                    11001|          BOGOTA|  61|                       1|   F|       Importado|              Casa|  Leve|                380|              ITALIA|Recuperado|           8/3/2020 0:00:00|           null|   13/3/2020 0:00:00|    23/3/2020 0:00:00|                 PCR|                 5|                   null|\n",
      "|14/3/2020 0:00:00|        17|    11/3/2020 0:00:00|                          11|             BOGOTA|                    11001|          BOGOTA|  73|                       1|   F|       Importado|              Casa|  Leve|                724|              ESPAÑA|Recuperado|          28/2/2020 0:00:00|           null|   14/3/2020 0:00:00|    14/3/2020 0:00:00|                 PCR|                 6|                   null|\n",
      "|14/3/2020 0:00:00|        18|    11/3/2020 0:00:00|                          11|             BOGOTA|                    11001|          BOGOTA|  54|                       1|   M|       Importado|              Casa|  Leve|                724|              ESPAÑA|Recuperado|           7/3/2020 0:00:00|           null|   14/3/2020 0:00:00|     7/4/2020 0:00:00|              Tiempo|                 6|                   null|\n",
      "|14/3/2020 0:00:00|        22|    12/3/2020 0:00:00|                           5|          ANTIOQUIA|                     5615|        RIONEGRO|  36|                       1|   M|       Importado|              Casa|  Leve|                840|ESTADOS UNIDOS DE...|Recuperado|           9/3/2020 0:00:00|           null|   14/3/2020 0:00:00|    24/3/2020 0:00:00|                 PCR|                 6|                   null|\n",
      "|14/3/2020 0:00:00|        24|    12/3/2020 0:00:00|                          11|             BOGOTA|                    11001|          BOGOTA|  18|                       1|   F|       Importado|              Casa|  Leve|                724|              ESPAÑA|Recuperado|          12/3/2020 0:00:00|           null|   14/3/2020 0:00:00|    27/3/2020 0:00:00|                 PCR|                 6|                   null|\n",
      "|13/3/2020 0:00:00|        25|    13/3/2020 0:00:00|                          76|              VALLE|                    76001|            CALI|  49|                       1|   M|       Importado|              Casa|  Leve|                724|              ESPAÑA|Recuperado|          10/3/2020 0:00:00|           null|   13/3/2020 0:00:00|    12/5/2020 0:00:00|                 PCR|                 6|                   null|\n",
      "|14/3/2020 0:00:00|        28|    12/3/2020 0:00:00|                          66|          RISARALDA|                    66170|    DOSQUEBRADAS|  22|                       1|   M|       Importado|              Casa|  Leve|                840|ESTADOS UNIDOS DE...|Recuperado|          10/3/2020 0:00:00|           null|   14/3/2020 0:00:00|     8/4/2020 0:00:00|                 PCR|                 6|                   null|\n",
      "|15/3/2020 0:00:00|        30|    13/3/2020 0:00:00|                          54|    NORTE SANTANDER|                    54001|          CUCUTA|  48|                       1|   F|       Importado|              Casa|  Leve|                724|              ESPAÑA|Recuperado|          11/3/2020 0:00:00|           null|   15/3/2020 0:00:00|    25/3/2020 0:00:00|                 PCR|                 6|                   null|\n",
      "|13/3/2020 0:00:00|        31|    12/3/2020 0:00:00|                          17|             CALDAS|                    17001|       MANIZALES|  65|                       1|   M|       Importado|              Casa|  Leve|                840|ESTADOS UNIDOS DE...|Recuperado|          12/3/2020 0:00:00|           null|   13/3/2020 0:00:00|    26/3/2020 0:00:00|                 PCR|                 6|                   null|\n",
      "+-----------------+----------+---------------------+----------------------------+-------------------+-------------------------+----------------+----+------------------------+----+----------------+------------------+------+-------------------+--------------------+----------+---------------------------+---------------+--------------------+---------------------+--------------------+------------------+-----------------------+\n",
      "only showing top 20 rows"
     ]
    }
   ],
   "source": [
    "#filter the records\n",
    "df.filter(df['Tipo de contagio']=='Importado').show()"
   ]
  },
  {
   "cell_type": "code",
   "execution_count": 24,
   "id": "3ab27379",
   "metadata": {},
   "outputs": [
    {
     "data": {
      "application/vnd.jupyter.widget-view+json": {
       "model_id": "",
       "version_major": 2,
       "version_minor": 0
      },
      "text/plain": [
       "FloatProgress(value=0.0, bar_style='info', description='Progress:', layout=Layout(height='25px', width='50%'),…"
      ]
     },
     "metadata": {},
     "output_type": "display_data"
    },
    {
     "name": "stdout",
     "output_type": "stream",
     "text": [
      "+----+----+----------------+\n",
      "|Edad|Sexo|Tipo de contagio|\n",
      "+----+----+----------------+\n",
      "|  19|   F|       Importado|\n",
      "|  34|   M|       Importado|\n",
      "|  50|   F|       Importado|\n",
      "|  85|   F|       Importado|\n",
      "|  22|   F|       Importado|\n",
      "|  28|   F|       Importado|\n",
      "|  36|   F|       Importado|\n",
      "|  42|   F|       Importado|\n",
      "|  74|   F|       Importado|\n",
      "|  48|   M|       Importado|\n",
      "|  30|   F|       Importado|\n",
      "|  61|   F|       Importado|\n",
      "|  73|   F|       Importado|\n",
      "|  54|   M|       Importado|\n",
      "|  36|   M|       Importado|\n",
      "|  18|   F|       Importado|\n",
      "|  49|   M|       Importado|\n",
      "|  22|   M|       Importado|\n",
      "|  48|   F|       Importado|\n",
      "|  65|   M|       Importado|\n",
      "+----+----+----------------+\n",
      "only showing top 20 rows"
     ]
    }
   ],
   "source": [
    "#filter the records\n",
    "df.filter(df['Tipo de contagio']=='Importado').select('Edad','Sexo','Tipo de contagio').show()"
   ]
  },
  {
   "cell_type": "code",
   "execution_count": 25,
   "id": "89332018",
   "metadata": {},
   "outputs": [
    {
     "data": {
      "application/vnd.jupyter.widget-view+json": {
       "model_id": "",
       "version_major": 2,
       "version_minor": 0
      },
      "text/plain": [
       "FloatProgress(value=0.0, bar_style='info', description='Progress:', layout=Layout(height='25px', width='50%'),…"
      ]
     },
     "metadata": {},
     "output_type": "display_data"
    },
    {
     "name": "stdout",
     "output_type": "stream",
     "text": [
      "+-----------------+----------+---------------------+----------------------------+-------------------+-------------------------+----------------+----+------------------------+----+----------------+------------------+------+-------------------+--------------------+----------+---------------------------+---------------+--------------------+---------------------+--------------------+------------------+-----------------------+\n",
      "|fecha reporte web|ID de caso|Fecha de notificación|Código DIVIPOLA departamento|Nombre departamento|Código DIVIPOLA municipio|Nombre municipio|Edad|Unidad de medida de edad|Sexo|Tipo de contagio|Ubicación del caso|Estado|Código ISO del país|     Nombre del país|Recuperado|Fecha de inicio de síntomas|Fecha de muerte|Fecha de diagnóstico|Fecha de recuperación|Tipo de recuperación|Pertenencia étnica|Nombre del grupo étnico|\n",
      "+-----------------+----------+---------------------+----------------------------+-------------------+-------------------------+----------------+----+------------------------+----+----------------+------------------+------+-------------------+--------------------+----------+---------------------------+---------------+--------------------+---------------------+--------------------+------------------+-----------------------+\n",
      "|12/3/2020 0:00:00|        11|    11/3/2020 0:00:00|                          11|             BOGOTA|                    11001|          BOGOTA|  42|                       1|   F|       Importado|              Casa|  Leve|                724|              ESPAÑA|Recuperado|           6/3/2020 0:00:00|           null|   12/3/2020 0:00:00|    31/3/2020 0:00:00|                 PCR|                 6|                   null|\n",
      "|12/3/2020 0:00:00|        12|    10/3/2020 0:00:00|                          41|              HUILA|                    41001|           NEIVA|  74|                       1|   F|       Importado|              Casa|  Leve|                380|              ITALIA|Recuperado|           6/3/2020 0:00:00|           null|   12/3/2020 0:00:00|     9/4/2020 0:00:00|                 PCR|                 6|                   null|\n",
      "|13/3/2020 0:00:00|        14|    10/3/2020 0:00:00|                          76|              VALLE|                    76520|         PALMIRA|  48|                       1|   M|       Importado|              Casa|  Leve|                724|              ESPAÑA|Recuperado|           7/3/2020 0:00:00|           null|   13/3/2020 0:00:00|    21/3/2020 0:00:00|                 PCR|                 5|                   null|\n",
      "|13/3/2020 0:00:00|        15|    13/3/2020 0:00:00|                          50|               META|                    50001|   VILLAVICENCIO|  30|                       1|   F|       Importado|              Casa|  Leve|                724|              ESPAÑA|Recuperado|           9/3/2020 0:00:00|           null|   13/3/2020 0:00:00|    23/3/2020 0:00:00|                 PCR|                 6|                   null|\n",
      "|13/3/2020 0:00:00|        16|    11/3/2020 0:00:00|                          11|             BOGOTA|                    11001|          BOGOTA|  61|                       1|   F|       Importado|              Casa|  Leve|                380|              ITALIA|Recuperado|           8/3/2020 0:00:00|           null|   13/3/2020 0:00:00|    23/3/2020 0:00:00|                 PCR|                 5|                   null|\n",
      "|14/3/2020 0:00:00|        17|    11/3/2020 0:00:00|                          11|             BOGOTA|                    11001|          BOGOTA|  73|                       1|   F|       Importado|              Casa|  Leve|                724|              ESPAÑA|Recuperado|          28/2/2020 0:00:00|           null|   14/3/2020 0:00:00|    14/3/2020 0:00:00|                 PCR|                 6|                   null|\n",
      "|14/3/2020 0:00:00|        18|    11/3/2020 0:00:00|                          11|             BOGOTA|                    11001|          BOGOTA|  54|                       1|   M|       Importado|              Casa|  Leve|                724|              ESPAÑA|Recuperado|           7/3/2020 0:00:00|           null|   14/3/2020 0:00:00|     7/4/2020 0:00:00|              Tiempo|                 6|                   null|\n",
      "|14/3/2020 0:00:00|        22|    12/3/2020 0:00:00|                           5|          ANTIOQUIA|                     5615|        RIONEGRO|  36|                       1|   M|       Importado|              Casa|  Leve|                840|ESTADOS UNIDOS DE...|Recuperado|           9/3/2020 0:00:00|           null|   14/3/2020 0:00:00|    24/3/2020 0:00:00|                 PCR|                 6|                   null|\n",
      "|14/3/2020 0:00:00|        24|    12/3/2020 0:00:00|                          11|             BOGOTA|                    11001|          BOGOTA|  18|                       1|   F|       Importado|              Casa|  Leve|                724|              ESPAÑA|Recuperado|          12/3/2020 0:00:00|           null|   14/3/2020 0:00:00|    27/3/2020 0:00:00|                 PCR|                 6|                   null|\n",
      "|13/3/2020 0:00:00|        25|    13/3/2020 0:00:00|                          76|              VALLE|                    76001|            CALI|  49|                       1|   M|       Importado|              Casa|  Leve|                724|              ESPAÑA|Recuperado|          10/3/2020 0:00:00|           null|   13/3/2020 0:00:00|    12/5/2020 0:00:00|                 PCR|                 6|                   null|\n",
      "|14/3/2020 0:00:00|        28|    12/3/2020 0:00:00|                          66|          RISARALDA|                    66170|    DOSQUEBRADAS|  22|                       1|   M|       Importado|              Casa|  Leve|                840|ESTADOS UNIDOS DE...|Recuperado|          10/3/2020 0:00:00|           null|   14/3/2020 0:00:00|     8/4/2020 0:00:00|                 PCR|                 6|                   null|\n",
      "|15/3/2020 0:00:00|        30|    13/3/2020 0:00:00|                          54|    NORTE SANTANDER|                    54001|          CUCUTA|  48|                       1|   F|       Importado|              Casa|  Leve|                724|              ESPAÑA|Recuperado|          11/3/2020 0:00:00|           null|   15/3/2020 0:00:00|    25/3/2020 0:00:00|                 PCR|                 6|                   null|\n",
      "|13/3/2020 0:00:00|        31|    12/3/2020 0:00:00|                          17|             CALDAS|                    17001|       MANIZALES|  65|                       1|   M|       Importado|              Casa|  Leve|                840|ESTADOS UNIDOS DE...|Recuperado|          12/3/2020 0:00:00|           null|   13/3/2020 0:00:00|    26/3/2020 0:00:00|                 PCR|                 6|                   null|\n",
      "|15/3/2020 0:00:00|        32|    11/3/2020 0:00:00|                           5|          ANTIOQUIA|                     5001|        MEDELLIN|  55|                       1|   M|       Importado|              Casa|  Leve|                724|              ESPAÑA|Recuperado|          10/3/2020 0:00:00|           null|   15/3/2020 0:00:00|    25/3/2020 0:00:00|                 PCR|                 6|                   null|\n",
      "|15/3/2020 0:00:00|        33|    13/3/2020 0:00:00|                          11|             BOGOTA|                    11001|          BOGOTA|  59|                       1|   M|       Importado|              Casa|  Leve|                724|              ESPAÑA|Recuperado|          12/3/2020 0:00:00|           null|   15/3/2020 0:00:00|    21/4/2020 0:00:00|                 PCR|                 6|                   null|\n",
      "|15/3/2020 0:00:00|        34|    13/3/2020 0:00:00|                          11|             BOGOTA|                    11001|          BOGOTA|  23|                       1|   F|       Importado|              Casa|  Leve|                724|              ESPAÑA|Recuperado|          11/3/2020 0:00:00|           null|   15/3/2020 0:00:00|    26/3/2020 0:00:00|                 PCR|                 6|                   null|\n",
      "|14/3/2020 0:00:00|        35|    12/3/2020 0:00:00|                          11|             BOGOTA|                    11001|          BOGOTA|  54|                       1|   M|       Importado|              Casa|  Leve|                724|              ESPAÑA|Recuperado|          11/3/2020 0:00:00|           null|   14/3/2020 0:00:00|    26/3/2020 0:00:00|                 PCR|                 6|                   null|\n",
      "|14/3/2020 0:00:00|        36|    13/3/2020 0:00:00|                          11|             BOGOTA|                    11001|          BOGOTA|  72|                       1|   M|       Importado|              Casa|  Leve|                840|ESTADOS UNIDOS DE...|Recuperado|          12/3/2020 0:00:00|           null|   14/3/2020 0:00:00|    27/3/2020 0:00:00|                 PCR|                 6|                   null|\n",
      "|14/3/2020 0:00:00|        38|    14/3/2020 0:00:00|                          11|             BOGOTA|                    11001|          BOGOTA|  29|                       1|   M|       Importado|              Casa|  Leve|                724|              ESPAÑA|Recuperado|          13/3/2020 0:00:00|           null|   14/3/2020 0:00:00|    28/3/2020 0:00:00|                 PCR|                 6|                   null|\n",
      "|14/3/2020 0:00:00|        39|    13/3/2020 0:00:00|                          11|             BOGOTA|                    11001|          BOGOTA|  21|                       1|   M|       Importado|              Casa|  Leve|                724|              ESPAÑA|Recuperado|           7/3/2020 0:00:00|           null|   14/3/2020 0:00:00|    22/3/2020 0:00:00|                 PCR|                 6|                   null|\n",
      "+-----------------+----------+---------------------+----------------------------+-------------------+-------------------------+----------------+----+------------------------+----+----------------+------------------+------+-------------------+--------------------+----------+---------------------------+---------------+--------------------+---------------------+--------------------+------------------+-----------------------+\n",
      "only showing top 20 rows"
     ]
    }
   ],
   "source": [
    "#filter the multiple conditions\n",
    "df.filter(df['Tipo de contagio']=='Importado').filter(df['ID de caso'] >10).show()"
   ]
  },
  {
   "cell_type": "code",
   "execution_count": 26,
   "id": "4cd4bcdf",
   "metadata": {},
   "outputs": [
    {
     "data": {
      "application/vnd.jupyter.widget-view+json": {
       "model_id": "",
       "version_major": 2,
       "version_minor": 0
      },
      "text/plain": [
       "FloatProgress(value=0.0, bar_style='info', description='Progress:', layout=Layout(height='25px', width='50%'),…"
      ]
     },
     "metadata": {},
     "output_type": "display_data"
    },
    {
     "name": "stdout",
     "output_type": "stream",
     "text": [
      "+-----------------+----------+---------------------+----------------------------+-------------------+-------------------------+----------------+----+------------------------+----+----------------+------------------+------+-------------------+--------------------+----------+---------------------------+---------------+--------------------+---------------------+--------------------+------------------+-----------------------+\n",
      "|fecha reporte web|ID de caso|Fecha de notificación|Código DIVIPOLA departamento|Nombre departamento|Código DIVIPOLA municipio|Nombre municipio|Edad|Unidad de medida de edad|Sexo|Tipo de contagio|Ubicación del caso|Estado|Código ISO del país|     Nombre del país|Recuperado|Fecha de inicio de síntomas|Fecha de muerte|Fecha de diagnóstico|Fecha de recuperación|Tipo de recuperación|Pertenencia étnica|Nombre del grupo étnico|\n",
      "+-----------------+----------+---------------------+----------------------------+-------------------+-------------------------+----------------+----+------------------------+----+----------------+------------------+------+-------------------+--------------------+----------+---------------------------+---------------+--------------------+---------------------+--------------------+------------------+-----------------------+\n",
      "|12/3/2020 0:00:00|        11|    11/3/2020 0:00:00|                          11|             BOGOTA|                    11001|          BOGOTA|  42|                       1|   F|       Importado|              Casa|  Leve|                724|              ESPAÑA|Recuperado|           6/3/2020 0:00:00|           null|   12/3/2020 0:00:00|    31/3/2020 0:00:00|                 PCR|                 6|                   null|\n",
      "|12/3/2020 0:00:00|        12|    10/3/2020 0:00:00|                          41|              HUILA|                    41001|           NEIVA|  74|                       1|   F|       Importado|              Casa|  Leve|                380|              ITALIA|Recuperado|           6/3/2020 0:00:00|           null|   12/3/2020 0:00:00|     9/4/2020 0:00:00|                 PCR|                 6|                   null|\n",
      "|13/3/2020 0:00:00|        14|    10/3/2020 0:00:00|                          76|              VALLE|                    76520|         PALMIRA|  48|                       1|   M|       Importado|              Casa|  Leve|                724|              ESPAÑA|Recuperado|           7/3/2020 0:00:00|           null|   13/3/2020 0:00:00|    21/3/2020 0:00:00|                 PCR|                 5|                   null|\n",
      "|13/3/2020 0:00:00|        15|    13/3/2020 0:00:00|                          50|               META|                    50001|   VILLAVICENCIO|  30|                       1|   F|       Importado|              Casa|  Leve|                724|              ESPAÑA|Recuperado|           9/3/2020 0:00:00|           null|   13/3/2020 0:00:00|    23/3/2020 0:00:00|                 PCR|                 6|                   null|\n",
      "|13/3/2020 0:00:00|        16|    11/3/2020 0:00:00|                          11|             BOGOTA|                    11001|          BOGOTA|  61|                       1|   F|       Importado|              Casa|  Leve|                380|              ITALIA|Recuperado|           8/3/2020 0:00:00|           null|   13/3/2020 0:00:00|    23/3/2020 0:00:00|                 PCR|                 5|                   null|\n",
      "|14/3/2020 0:00:00|        17|    11/3/2020 0:00:00|                          11|             BOGOTA|                    11001|          BOGOTA|  73|                       1|   F|       Importado|              Casa|  Leve|                724|              ESPAÑA|Recuperado|          28/2/2020 0:00:00|           null|   14/3/2020 0:00:00|    14/3/2020 0:00:00|                 PCR|                 6|                   null|\n",
      "|14/3/2020 0:00:00|        18|    11/3/2020 0:00:00|                          11|             BOGOTA|                    11001|          BOGOTA|  54|                       1|   M|       Importado|              Casa|  Leve|                724|              ESPAÑA|Recuperado|           7/3/2020 0:00:00|           null|   14/3/2020 0:00:00|     7/4/2020 0:00:00|              Tiempo|                 6|                   null|\n",
      "|14/3/2020 0:00:00|        22|    12/3/2020 0:00:00|                           5|          ANTIOQUIA|                     5615|        RIONEGRO|  36|                       1|   M|       Importado|              Casa|  Leve|                840|ESTADOS UNIDOS DE...|Recuperado|           9/3/2020 0:00:00|           null|   14/3/2020 0:00:00|    24/3/2020 0:00:00|                 PCR|                 6|                   null|\n",
      "|14/3/2020 0:00:00|        24|    12/3/2020 0:00:00|                          11|             BOGOTA|                    11001|          BOGOTA|  18|                       1|   F|       Importado|              Casa|  Leve|                724|              ESPAÑA|Recuperado|          12/3/2020 0:00:00|           null|   14/3/2020 0:00:00|    27/3/2020 0:00:00|                 PCR|                 6|                   null|\n",
      "|13/3/2020 0:00:00|        25|    13/3/2020 0:00:00|                          76|              VALLE|                    76001|            CALI|  49|                       1|   M|       Importado|              Casa|  Leve|                724|              ESPAÑA|Recuperado|          10/3/2020 0:00:00|           null|   13/3/2020 0:00:00|    12/5/2020 0:00:00|                 PCR|                 6|                   null|\n",
      "|14/3/2020 0:00:00|        28|    12/3/2020 0:00:00|                          66|          RISARALDA|                    66170|    DOSQUEBRADAS|  22|                       1|   M|       Importado|              Casa|  Leve|                840|ESTADOS UNIDOS DE...|Recuperado|          10/3/2020 0:00:00|           null|   14/3/2020 0:00:00|     8/4/2020 0:00:00|                 PCR|                 6|                   null|\n",
      "|15/3/2020 0:00:00|        30|    13/3/2020 0:00:00|                          54|    NORTE SANTANDER|                    54001|          CUCUTA|  48|                       1|   F|       Importado|              Casa|  Leve|                724|              ESPAÑA|Recuperado|          11/3/2020 0:00:00|           null|   15/3/2020 0:00:00|    25/3/2020 0:00:00|                 PCR|                 6|                   null|\n",
      "|13/3/2020 0:00:00|        31|    12/3/2020 0:00:00|                          17|             CALDAS|                    17001|       MANIZALES|  65|                       1|   M|       Importado|              Casa|  Leve|                840|ESTADOS UNIDOS DE...|Recuperado|          12/3/2020 0:00:00|           null|   13/3/2020 0:00:00|    26/3/2020 0:00:00|                 PCR|                 6|                   null|\n",
      "|15/3/2020 0:00:00|        32|    11/3/2020 0:00:00|                           5|          ANTIOQUIA|                     5001|        MEDELLIN|  55|                       1|   M|       Importado|              Casa|  Leve|                724|              ESPAÑA|Recuperado|          10/3/2020 0:00:00|           null|   15/3/2020 0:00:00|    25/3/2020 0:00:00|                 PCR|                 6|                   null|\n",
      "|15/3/2020 0:00:00|        33|    13/3/2020 0:00:00|                          11|             BOGOTA|                    11001|          BOGOTA|  59|                       1|   M|       Importado|              Casa|  Leve|                724|              ESPAÑA|Recuperado|          12/3/2020 0:00:00|           null|   15/3/2020 0:00:00|    21/4/2020 0:00:00|                 PCR|                 6|                   null|\n",
      "|15/3/2020 0:00:00|        34|    13/3/2020 0:00:00|                          11|             BOGOTA|                    11001|          BOGOTA|  23|                       1|   F|       Importado|              Casa|  Leve|                724|              ESPAÑA|Recuperado|          11/3/2020 0:00:00|           null|   15/3/2020 0:00:00|    26/3/2020 0:00:00|                 PCR|                 6|                   null|\n",
      "|14/3/2020 0:00:00|        35|    12/3/2020 0:00:00|                          11|             BOGOTA|                    11001|          BOGOTA|  54|                       1|   M|       Importado|              Casa|  Leve|                724|              ESPAÑA|Recuperado|          11/3/2020 0:00:00|           null|   14/3/2020 0:00:00|    26/3/2020 0:00:00|                 PCR|                 6|                   null|\n",
      "|14/3/2020 0:00:00|        36|    13/3/2020 0:00:00|                          11|             BOGOTA|                    11001|          BOGOTA|  72|                       1|   M|       Importado|              Casa|  Leve|                840|ESTADOS UNIDOS DE...|Recuperado|          12/3/2020 0:00:00|           null|   14/3/2020 0:00:00|    27/3/2020 0:00:00|                 PCR|                 6|                   null|\n",
      "|14/3/2020 0:00:00|        38|    14/3/2020 0:00:00|                          11|             BOGOTA|                    11001|          BOGOTA|  29|                       1|   M|       Importado|              Casa|  Leve|                724|              ESPAÑA|Recuperado|          13/3/2020 0:00:00|           null|   14/3/2020 0:00:00|    28/3/2020 0:00:00|                 PCR|                 6|                   null|\n",
      "|14/3/2020 0:00:00|        39|    13/3/2020 0:00:00|                          11|             BOGOTA|                    11001|          BOGOTA|  21|                       1|   M|       Importado|              Casa|  Leve|                724|              ESPAÑA|Recuperado|           7/3/2020 0:00:00|           null|   14/3/2020 0:00:00|    22/3/2020 0:00:00|                 PCR|                 6|                   null|\n",
      "+-----------------+----------+---------------------+----------------------------+-------------------+-------------------------+----------------+----+------------------------+----+----------------+------------------+------+-------------------+--------------------+----------+---------------------------+---------------+--------------------+---------------------+--------------------+------------------+-----------------------+\n",
      "only showing top 20 rows"
     ]
    }
   ],
   "source": [
    "#filter the multiple conditions\n",
    "df.filter((df['Tipo de contagio']=='Importado')&(df['ID de caso'] >10)).show()"
   ]
  },
  {
   "cell_type": "code",
   "execution_count": 27,
   "id": "82bafe89",
   "metadata": {},
   "outputs": [
    {
     "data": {
      "application/vnd.jupyter.widget-view+json": {
       "model_id": "",
       "version_major": 2,
       "version_minor": 0
      },
      "text/plain": [
       "FloatProgress(value=0.0, bar_style='info', description='Progress:', layout=Layout(height='25px', width='50%'),…"
      ]
     },
     "metadata": {},
     "output_type": "display_data"
    },
    {
     "name": "stdout",
     "output_type": "stream",
     "text": [
      "+----------------+\n",
      "|Tipo de contagio|\n",
      "+----------------+\n",
      "|       Importado|\n",
      "|     Comunitaria|\n",
      "|      En estudio|\n",
      "|     Relacionado|\n",
      "+----------------+"
     ]
    }
   ],
   "source": [
    "#Distinct Values in a column\n",
    "df.select('Tipo de contagio').distinct().show()"
   ]
  },
  {
   "cell_type": "code",
   "execution_count": 28,
   "id": "73070274",
   "metadata": {},
   "outputs": [
    {
     "data": {
      "application/vnd.jupyter.widget-view+json": {
       "model_id": "",
       "version_major": 2,
       "version_minor": 0
      },
      "text/plain": [
       "FloatProgress(value=0.0, bar_style='info', description='Progress:', layout=Layout(height='25px', width='50%'),…"
      ]
     },
     "metadata": {},
     "output_type": "display_data"
    },
    {
     "name": "stdout",
     "output_type": "stream",
     "text": [
      "4"
     ]
    }
   ],
   "source": [
    "#distinct value count\n",
    "df.select('Tipo de contagio').distinct().count()"
   ]
  },
  {
   "cell_type": "code",
   "execution_count": 29,
   "id": "4b8fa741",
   "metadata": {},
   "outputs": [
    {
     "data": {
      "application/vnd.jupyter.widget-view+json": {
       "model_id": "",
       "version_major": 2,
       "version_minor": 0
      },
      "text/plain": [
       "FloatProgress(value=0.0, bar_style='info', description='Progress:', layout=Layout(height='25px', width='50%'),…"
      ]
     },
     "metadata": {},
     "output_type": "display_data"
    },
    {
     "name": "stdout",
     "output_type": "stream",
     "text": [
      "+----------------+-----+\n",
      "|Tipo de contagio|count|\n",
      "+----------------+-----+\n",
      "|Importado       |477  |\n",
      "|Comunitaria     |63   |\n",
      "|En estudio      |1    |\n",
      "|Relacionado     |459  |\n",
      "+----------------+-----+"
     ]
    }
   ],
   "source": [
    "df.groupBy('Tipo de contagio').count().show(5,False)"
   ]
  },
  {
   "cell_type": "code",
   "execution_count": 30,
   "id": "0fbe5c69",
   "metadata": {},
   "outputs": [
    {
     "data": {
      "application/vnd.jupyter.widget-view+json": {
       "model_id": "",
       "version_major": 2,
       "version_minor": 0
      },
      "text/plain": [
       "FloatProgress(value=0.0, bar_style='info', description='Progress:', layout=Layout(height='25px', width='50%'),…"
      ]
     },
     "metadata": {},
     "output_type": "display_data"
    },
    {
     "name": "stdout",
     "output_type": "stream",
     "text": [
      "+----------------+-----+\n",
      "|Tipo de contagio|count|\n",
      "+----------------+-----+\n",
      "|Importado       |477  |\n",
      "|Relacionado     |459  |\n",
      "|Comunitaria     |63   |\n",
      "|En estudio      |1    |\n",
      "+----------------+-----+"
     ]
    }
   ],
   "source": [
    "# Value counts\n",
    "df.groupBy('Tipo de contagio').count().orderBy('count',ascending=False).show(5,False)"
   ]
  },
  {
   "cell_type": "code",
   "execution_count": 31,
   "id": "65953795",
   "metadata": {},
   "outputs": [
    {
     "data": {
      "application/vnd.jupyter.widget-view+json": {
       "model_id": "",
       "version_major": 2,
       "version_minor": 0
      },
      "text/plain": [
       "FloatProgress(value=0.0, bar_style='info', description='Progress:', layout=Layout(height='25px', width='50%'),…"
      ]
     },
     "metadata": {},
     "output_type": "display_data"
    },
    {
     "name": "stdout",
     "output_type": "stream",
     "text": [
      "+----------------+------------------+---------------------------------+------------------------------+-----------------+-----------------------------+------------------------+-----------------------+\n",
      "|Tipo de contagio|avg(ID de caso)   |avg(Código DIVIPOLA departamento)|avg(Código DIVIPOLA municipio)|avg(Edad)        |avg(Unidad de medida de edad)|avg(Código ISO del país)|avg(Pertenencia étnica)|\n",
      "+----------------+------------------+---------------------------------+------------------------------+-----------------+-----------------------------+------------------------+-----------------------+\n",
      "|Importado       |425.77358490566036|729.1802935010483                |29698.71278825996             |42.44863731656184|1.0                          |640.125786163522        |5.89517819706499       |\n",
      "|Comunitaria     |776.8730158730159 |637.2380952380952                |18860.349206349205            |46.06349206349206|1.0158730158730158           |null                    |5.9523809523809526     |\n",
      "|En estudio      |677.0             |5.0                              |5652.0                        |80.0             |1.0                          |null                    |6.0                    |\n",
      "|Relacionado     |539.8387799564271 |1986.3638344226579               |29690.483660130718            |41.17211328976035|1.0                          |null                    |5.89760348583878       |\n",
      "+----------------+------------------+---------------------------------+------------------------------+-----------------+-----------------------------+------------------------+-----------------------+"
     ]
    }
   ],
   "source": [
    "# Value counts\n",
    "df.groupBy('Tipo de contagio').mean().show(5,False)"
   ]
  },
  {
   "cell_type": "code",
   "execution_count": 32,
   "id": "5936ce96",
   "metadata": {},
   "outputs": [
    {
     "data": {
      "application/vnd.jupyter.widget-view+json": {
       "model_id": "",
       "version_major": 2,
       "version_minor": 0
      },
      "text/plain": [
       "FloatProgress(value=0.0, bar_style='info', description='Progress:', layout=Layout(height='25px', width='50%'),…"
      ]
     },
     "metadata": {},
     "output_type": "display_data"
    },
    {
     "name": "stdout",
     "output_type": "stream",
     "text": [
      "+----------------+---------------+---------------------------------+------------------------------+---------+-----------------------------+------------------------+-----------------------+\n",
      "|Tipo de contagio|sum(ID de caso)|sum(Código DIVIPOLA departamento)|sum(Código DIVIPOLA municipio)|sum(Edad)|sum(Unidad de medida de edad)|sum(Código ISO del país)|sum(Pertenencia étnica)|\n",
      "+----------------+---------------+---------------------------------+------------------------------+---------+-----------------------------+------------------------+-----------------------+\n",
      "|Importado       |203094         |347819                           |14166286                      |20248    |477                          |305340                  |2812                   |\n",
      "|Comunitaria     |48943          |40146                            |1188202                       |2902     |64                           |null                    |375                    |\n",
      "|En estudio      |677            |5                                |5652                          |80       |1                            |null                    |6                      |\n",
      "|Relacionado     |247786         |911741                           |13627932                      |18898    |459                          |null                    |2707                   |\n",
      "+----------------+---------------+---------------------------------+------------------------------+---------+-----------------------------+------------------------+-----------------------+"
     ]
    }
   ],
   "source": [
    "df.groupBy('Tipo de contagio').sum().show(5,False)"
   ]
  },
  {
   "cell_type": "code",
   "execution_count": 33,
   "id": "fac74c76",
   "metadata": {},
   "outputs": [
    {
     "data": {
      "application/vnd.jupyter.widget-view+json": {
       "model_id": "",
       "version_major": 2,
       "version_minor": 0
      },
      "text/plain": [
       "FloatProgress(value=0.0, bar_style='info', description='Progress:', layout=Layout(height='25px', width='50%'),…"
      ]
     },
     "metadata": {},
     "output_type": "display_data"
    },
    {
     "name": "stdout",
     "output_type": "stream",
     "text": [
      "+----------------+---------------+---------------------------------+------------------------------+---------+-----------------------------+------------------------+-----------------------+\n",
      "|Tipo de contagio|max(ID de caso)|max(Código DIVIPOLA departamento)|max(Código DIVIPOLA municipio)|max(Edad)|max(Unidad de medida de edad)|max(Código ISO del país)|max(Pertenencia étnica)|\n",
      "+----------------+---------------+---------------------------------+------------------------------+---------+-----------------------------+------------------------+-----------------------+\n",
      "|Importado       |994            |47001                            |76892                         |87       |1                            |862                     |6                      |\n",
      "|Comunitaria     |1000           |13001                            |76001                         |82       |2                            |null                    |6                      |\n",
      "|En estudio      |677            |5                                |5652                          |80       |1                            |null                    |6                      |\n",
      "|Relacionado     |992            |47001                            |88001                         |88       |1                            |null                    |6                      |\n",
      "+----------------+---------------+---------------------------------+------------------------------+---------+-----------------------------+------------------------+-----------------------+"
     ]
    }
   ],
   "source": [
    "# Value counts\n",
    "df.groupBy('Tipo de contagio').max().show(5,False)"
   ]
  },
  {
   "cell_type": "code",
   "execution_count": 34,
   "id": "e16a2150",
   "metadata": {},
   "outputs": [
    {
     "data": {
      "application/vnd.jupyter.widget-view+json": {
       "model_id": "",
       "version_major": 2,
       "version_minor": 0
      },
      "text/plain": [
       "FloatProgress(value=0.0, bar_style='info', description='Progress:', layout=Layout(height='25px', width='50%'),…"
      ]
     },
     "metadata": {},
     "output_type": "display_data"
    },
    {
     "name": "stdout",
     "output_type": "stream",
     "text": [
      "+----------------+---------------+---------------------------------+------------------------------+---------+-----------------------------+------------------------+-----------------------+\n",
      "|Tipo de contagio|min(ID de caso)|min(Código DIVIPOLA departamento)|min(Código DIVIPOLA municipio)|min(Edad)|min(Unidad de medida de edad)|min(Código ISO del país)|min(Pertenencia étnica)|\n",
      "+----------------+---------------+---------------------------------+------------------------------+---------+-----------------------------+------------------------+-----------------------+\n",
      "|Importado       |1              |5                                |5001                          |9        |1                            |32                      |1                      |\n",
      "|Comunitaria     |250            |5                                |5001                          |6        |1                            |null                    |5                      |\n",
      "|En estudio      |677            |5                                |5652                          |80       |1                            |null                    |6                      |\n",
      "|Relacionado     |4              |5                                |5001                          |1        |1                            |null                    |1                      |\n",
      "+----------------+---------------+---------------------------------+------------------------------+---------+-----------------------------+------------------------+-----------------------+"
     ]
    }
   ],
   "source": [
    "# Value counts\n",
    "df.groupBy('Tipo de contagio').min().show(5,False)"
   ]
  },
  {
   "cell_type": "code",
   "execution_count": 35,
   "id": "278728d4",
   "metadata": {},
   "outputs": [
    {
     "data": {
      "application/vnd.jupyter.widget-view+json": {
       "model_id": "",
       "version_major": 2,
       "version_minor": 0
      },
      "text/plain": [
       "FloatProgress(value=0.0, bar_style='info', description='Progress:', layout=Layout(height='25px', width='50%'),…"
      ]
     },
     "metadata": {},
     "output_type": "display_data"
    },
    {
     "name": "stdout",
     "output_type": "stream",
     "text": [
      "+----------------+---------------+\n",
      "|Tipo de contagio|sum(ID de caso)|\n",
      "+----------------+---------------+\n",
      "|Importado       |203094         |\n",
      "|Comunitaria     |48943          |\n",
      "|En estudio      |677            |\n",
      "|Relacionado     |247786         |\n",
      "+----------------+---------------+"
     ]
    }
   ],
   "source": [
    "#Aggregation\n",
    "df.groupBy('Tipo de contagio').agg({'ID de caso':'sum'}).show(5,False)"
   ]
  },
  {
   "cell_type": "code",
   "execution_count": 36,
   "id": "d1c379c7",
   "metadata": {},
   "outputs": [
    {
     "data": {
      "application/vnd.jupyter.widget-view+json": {
       "model_id": "",
       "version_major": 2,
       "version_minor": 0
      },
      "text/plain": [
       "FloatProgress(value=0.0, bar_style='info', description='Progress:', layout=Layout(height='25px', width='50%'),…"
      ]
     },
     "metadata": {},
     "output_type": "display_data"
    }
   ],
   "source": [
    "# UDF\n",
    "from pyspark.sql.functions import udf"
   ]
  },
  {
   "cell_type": "code",
   "execution_count": 37,
   "id": "0ca6adb9",
   "metadata": {},
   "outputs": [
    {
     "data": {
      "application/vnd.jupyter.widget-view+json": {
       "model_id": "",
       "version_major": 2,
       "version_minor": 0
      },
      "text/plain": [
       "FloatProgress(value=0.0, bar_style='info', description='Progress:', layout=Layout(height='25px', width='50%'),…"
      ]
     },
     "metadata": {},
     "output_type": "display_data"
    }
   ],
   "source": [
    "#normal function\n",
    "def price_range(brand):\n",
    "    if brand in ['Comunitaria', 'Relacionado']:\n",
    "        return 'Comunitaria o Relacionado'\n",
    "    elif brand =='Importado':\n",
    "        return 'Importado'\n",
    "    else:\n",
    "        return 'En estudio'"
   ]
  },
  {
   "cell_type": "code",
   "execution_count": 38,
   "id": "56aa5591",
   "metadata": {},
   "outputs": [
    {
     "data": {
      "application/vnd.jupyter.widget-view+json": {
       "model_id": "",
       "version_major": 2,
       "version_minor": 0
      },
      "text/plain": [
       "FloatProgress(value=0.0, bar_style='info', description='Progress:', layout=Layout(height='25px', width='50%'),…"
      ]
     },
     "metadata": {},
     "output_type": "display_data"
    },
    {
     "name": "stdout",
     "output_type": "stream",
     "text": [
      "+-----------------+----------+---------------------+----------------------------+-------------------+-------------------------+----------------+----+------------------------+----+----------------+------------------+------+-------------------+-------------------------+----------+---------------------------+---------------+--------------------+---------------------+--------------------+------------------+-----------------------+-------------------------+\n",
      "|fecha reporte web|ID de caso|Fecha de notificación|Código DIVIPOLA departamento|Nombre departamento|Código DIVIPOLA municipio|Nombre municipio|Edad|Unidad de medida de edad|Sexo|Tipo de contagio|Ubicación del caso|Estado|Código ISO del país|Nombre del país          |Recuperado|Fecha de inicio de síntomas|Fecha de muerte|Fecha de diagnóstico|Fecha de recuperación|Tipo de recuperación|Pertenencia étnica|Nombre del grupo étnico|price_range              |\n",
      "+-----------------+----------+---------------------+----------------------------+-------------------+-------------------------+----------------+----+------------------------+----+----------------+------------------+------+-------------------+-------------------------+----------+---------------------------+---------------+--------------------+---------------------+--------------------+------------------+-----------------------+-------------------------+\n",
      "|6/3/2020 0:00:00 |1         |2/3/2020 0:00:00     |11                          |BOGOTA             |11001                    |BOGOTA          |19  |1                       |F   |Importado       |Casa              |Leve  |380                |ITALIA                   |Recuperado|27/2/2020 0:00:00          |null           |6/3/2020 0:00:00    |13/3/2020 0:00:00    |PCR                 |6                 |null                   |Importado                |\n",
      "|9/3/2020 0:00:00 |2         |6/3/2020 0:00:00     |76                          |VALLE              |76111                    |BUGA            |34  |1                       |M   |Importado       |Casa              |Leve  |724                |ESPAÑA                   |Recuperado|4/3/2020 0:00:00           |null           |9/3/2020 0:00:00    |19/3/2020 0:00:00    |PCR                 |5                 |null                   |Importado                |\n",
      "|9/3/2020 0:00:00 |3         |7/3/2020 0:00:00     |5                           |ANTIOQUIA          |5001                     |MEDELLIN        |50  |1                       |F   |Importado       |Casa              |Leve  |724                |ESPAÑA                   |Recuperado|29/2/2020 0:00:00          |null           |9/3/2020 0:00:00    |15/3/2020 0:00:00    |PCR                 |6                 |null                   |Importado                |\n",
      "|11/3/2020 0:00:00|4         |9/3/2020 0:00:00     |5                           |ANTIOQUIA          |5001                     |MEDELLIN        |55  |1                       |M   |Relacionado     |Casa              |Leve  |null               |null                     |Recuperado|6/3/2020 0:00:00           |null           |11/3/2020 0:00:00   |26/3/2020 0:00:00    |PCR                 |6                 |null                   |Comunitaria o Relacionado|\n",
      "|11/3/2020 0:00:00|5         |9/3/2020 0:00:00     |5                           |ANTIOQUIA          |5001                     |MEDELLIN        |25  |1                       |M   |Relacionado     |Casa              |Leve  |null               |null                     |Recuperado|8/3/2020 0:00:00           |null           |11/3/2020 0:00:00   |23/3/2020 0:00:00    |PCR                 |6                 |null                   |Comunitaria o Relacionado|\n",
      "|11/3/2020 0:00:00|6         |10/3/2020 0:00:00    |5                           |ANTIOQUIA          |5360                     |ITAGUI          |27  |1                       |F   |Relacionado     |Casa              |Leve  |null               |null                     |Recuperado|6/3/2020 0:00:00           |null           |11/3/2020 0:00:00   |26/3/2020 0:00:00    |PCR                 |6                 |null                   |Comunitaria o Relacionado|\n",
      "|11/3/2020 0:00:00|7         |8/3/2020 0:00:00     |13001                       |CARTAGENA          |13001                    |CARTAGENA       |85  |1                       |F   |Importado       |Casa              |Leve  |840                |ESTADOS UNIDOS DE AMÉRICA|Recuperado|2/3/2020 0:00:00           |null           |11/3/2020 0:00:00   |17/3/2020 0:00:00    |PCR                 |6                 |null                   |Importado                |\n",
      "|11/3/2020 0:00:00|8         |9/3/2020 0:00:00     |11                          |BOGOTA             |11001                    |BOGOTA          |22  |1                       |F   |Importado       |Casa              |Leve  |724                |ESPAÑA                   |Recuperado|6/3/2020 0:00:00           |null           |11/3/2020 0:00:00   |21/3/2020 0:00:00    |PCR                 |6                 |null                   |Importado                |\n",
      "|11/3/2020 0:00:00|9         |8/3/2020 0:00:00     |11                          |BOGOTA             |11001                    |BOGOTA          |28  |1                       |F   |Importado       |Casa              |Leve  |724                |ESPAÑA                   |Recuperado|7/3/2020 0:00:00           |null           |11/3/2020 0:00:00   |23/3/2020 0:00:00    |PCR                 |6                 |null                   |Importado                |\n",
      "|12/3/2020 0:00:00|10        |12/3/2020 0:00:00    |11                          |BOGOTA             |11001                    |BOGOTA          |36  |1                       |F   |Importado       |Casa              |Leve  |724                |ESPAÑA                   |Recuperado|6/3/2020 0:00:00           |null           |12/3/2020 0:00:00   |21/3/2020 0:00:00    |PCR                 |6                 |null                   |Importado                |\n",
      "+-----------------+----------+---------------------+----------------------------+-------------------+-------------------------+----------------+----+------------------------+----+----------------+------------------+------+-------------------+-------------------------+----------+---------------------------+---------------+--------------------+---------------------+--------------------+------------------+-----------------------+-------------------------+\n",
      "only showing top 10 rows"
     ]
    }
   ],
   "source": [
    "#create udf using python function\n",
    "brand_udf=udf(price_range,StringType())\n",
    "#apply udf on dataframe\n",
    "df.withColumn('price_range',brand_udf(df['Tipo de contagio'])).show(10,False)"
   ]
  },
  {
   "cell_type": "code",
   "execution_count": 39,
   "id": "22083b43",
   "metadata": {},
   "outputs": [
    {
     "data": {
      "application/vnd.jupyter.widget-view+json": {
       "model_id": "",
       "version_major": 2,
       "version_minor": 0
      },
      "text/plain": [
       "FloatProgress(value=0.0, bar_style='info', description='Progress:', layout=Layout(height='25px', width='50%'),…"
      ]
     },
     "metadata": {},
     "output_type": "display_data"
    },
    {
     "name": "stdout",
     "output_type": "stream",
     "text": [
      "+-----------------+----------+---------------------+----------------------------+-------------------+-------------------------+----------------+----+------------------------+----+----------------+------------------+------+-------------------+-------------------------+----------+---------------------------+---------------+--------------------+---------------------+--------------------+------------------+-----------------------+---------+\n",
      "|fecha reporte web|ID de caso|Fecha de notificación|Código DIVIPOLA departamento|Nombre departamento|Código DIVIPOLA municipio|Nombre municipio|Edad|Unidad de medida de edad|Sexo|Tipo de contagio|Ubicación del caso|Estado|Código ISO del país|Nombre del país          |Recuperado|Fecha de inicio de síntomas|Fecha de muerte|Fecha de diagnóstico|Fecha de recuperación|Tipo de recuperación|Pertenencia étnica|Nombre del grupo étnico|age_group|\n",
      "+-----------------+----------+---------------------+----------------------------+-------------------+-------------------------+----------------+----+------------------------+----+----------------+------------------+------+-------------------+-------------------------+----------+---------------------------+---------------+--------------------+---------------------+--------------------+------------------+-----------------------+---------+\n",
      "|6/3/2020 0:00:00 |1         |2/3/2020 0:00:00     |11                          |BOGOTA             |11001                    |BOGOTA          |19  |1                       |F   |Importado       |Casa              |Leve  |380                |ITALIA                   |Recuperado|27/2/2020 0:00:00          |null           |6/3/2020 0:00:00    |13/3/2020 0:00:00    |PCR                 |6                 |null                   |young    |\n",
      "|9/3/2020 0:00:00 |2         |6/3/2020 0:00:00     |76                          |VALLE              |76111                    |BUGA            |34  |1                       |M   |Importado       |Casa              |Leve  |724                |ESPAÑA                   |Recuperado|4/3/2020 0:00:00           |null           |9/3/2020 0:00:00    |19/3/2020 0:00:00    |PCR                 |5                 |null                   |senior   |\n",
      "|9/3/2020 0:00:00 |3         |7/3/2020 0:00:00     |5                           |ANTIOQUIA          |5001                     |MEDELLIN        |50  |1                       |F   |Importado       |Casa              |Leve  |724                |ESPAÑA                   |Recuperado|29/2/2020 0:00:00          |null           |9/3/2020 0:00:00    |15/3/2020 0:00:00    |PCR                 |6                 |null                   |senior   |\n",
      "|11/3/2020 0:00:00|4         |9/3/2020 0:00:00     |5                           |ANTIOQUIA          |5001                     |MEDELLIN        |55  |1                       |M   |Relacionado     |Casa              |Leve  |null               |null                     |Recuperado|6/3/2020 0:00:00           |null           |11/3/2020 0:00:00   |26/3/2020 0:00:00    |PCR                 |6                 |null                   |senior   |\n",
      "|11/3/2020 0:00:00|5         |9/3/2020 0:00:00     |5                           |ANTIOQUIA          |5001                     |MEDELLIN        |25  |1                       |M   |Relacionado     |Casa              |Leve  |null               |null                     |Recuperado|8/3/2020 0:00:00           |null           |11/3/2020 0:00:00   |23/3/2020 0:00:00    |PCR                 |6                 |null                   |young    |\n",
      "|11/3/2020 0:00:00|6         |10/3/2020 0:00:00    |5                           |ANTIOQUIA          |5360                     |ITAGUI          |27  |1                       |F   |Relacionado     |Casa              |Leve  |null               |null                     |Recuperado|6/3/2020 0:00:00           |null           |11/3/2020 0:00:00   |26/3/2020 0:00:00    |PCR                 |6                 |null                   |young    |\n",
      "|11/3/2020 0:00:00|7         |8/3/2020 0:00:00     |13001                       |CARTAGENA          |13001                    |CARTAGENA       |85  |1                       |F   |Importado       |Casa              |Leve  |840                |ESTADOS UNIDOS DE AMÉRICA|Recuperado|2/3/2020 0:00:00           |null           |11/3/2020 0:00:00   |17/3/2020 0:00:00    |PCR                 |6                 |null                   |senior   |\n",
      "|11/3/2020 0:00:00|8         |9/3/2020 0:00:00     |11                          |BOGOTA             |11001                    |BOGOTA          |22  |1                       |F   |Importado       |Casa              |Leve  |724                |ESPAÑA                   |Recuperado|6/3/2020 0:00:00           |null           |11/3/2020 0:00:00   |21/3/2020 0:00:00    |PCR                 |6                 |null                   |young    |\n",
      "|11/3/2020 0:00:00|9         |8/3/2020 0:00:00     |11                          |BOGOTA             |11001                    |BOGOTA          |28  |1                       |F   |Importado       |Casa              |Leve  |724                |ESPAÑA                   |Recuperado|7/3/2020 0:00:00           |null           |11/3/2020 0:00:00   |23/3/2020 0:00:00    |PCR                 |6                 |null                   |young    |\n",
      "|12/3/2020 0:00:00|10        |12/3/2020 0:00:00    |11                          |BOGOTA             |11001                    |BOGOTA          |36  |1                       |F   |Importado       |Casa              |Leve  |724                |ESPAÑA                   |Recuperado|6/3/2020 0:00:00           |null           |12/3/2020 0:00:00   |21/3/2020 0:00:00    |PCR                 |6                 |null                   |senior   |\n",
      "+-----------------+----------+---------------------+----------------------------+-------------------+-------------------------+----------------+----+------------------------+----+----------------+------------------+------+-------------------+-------------------------+----------+---------------------------+---------------+--------------------+---------------------+--------------------+------------------+-----------------------+---------+\n",
      "only showing top 10 rows"
     ]
    }
   ],
   "source": [
    "#using lambda function\n",
    "age_udf = udf(lambda Edad: \"young\" if Edad <= 30 else \"senior\", StringType())\n",
    "#apply udf on dataframe\n",
    "df.withColumn(\"age_group\", age_udf(df.Edad)).show(10,False)"
   ]
  },
  {
   "cell_type": "code",
   "execution_count": 49,
   "id": "1cd1f78d",
   "metadata": {},
   "outputs": [
    {
     "data": {
      "application/vnd.jupyter.widget-view+json": {
       "model_id": "",
       "version_major": 2,
       "version_minor": 0
      },
      "text/plain": [
       "FloatProgress(value=0.0, bar_style='info', description='Progress:', layout=Layout(height='25px', width='50%'),…"
      ]
     },
     "metadata": {},
     "output_type": "display_data"
    }
   ],
   "source": [
    "#pandas udf\n",
    "from pyspark.sql.functions import pandas_udf, PandasUDFType"
   ]
  },
  {
   "cell_type": "code",
   "execution_count": 46,
   "id": "c0648df2",
   "metadata": {},
   "outputs": [
    {
     "data": {
      "application/vnd.jupyter.widget-view+json": {
       "model_id": "",
       "version_major": 2,
       "version_minor": 0
      },
      "text/plain": [
       "FloatProgress(value=0.0, bar_style='info', description='Progress:', layout=Layout(height='25px', width='50%'),…"
      ]
     },
     "metadata": {},
     "output_type": "display_data"
    }
   ],
   "source": [
    "#create python function\n",
    "def remaining_yrs(age):\n",
    "    yrs_left=100-age\n",
    "\n",
    "    return yrs_left"
   ]
  },
  {
   "cell_type": "code",
   "execution_count": 58,
   "id": "e0495fbc",
   "metadata": {},
   "outputs": [
    {
     "data": {
      "application/vnd.jupyter.widget-view+json": {
       "model_id": "",
       "version_major": 2,
       "version_minor": 0
      },
      "text/plain": [
       "FloatProgress(value=0.0, bar_style='info', description='Progress:', layout=Layout(height='25px', width='50%'),…"
      ]
     },
     "metadata": {},
     "output_type": "display_data"
    },
    {
     "name": "stdout",
     "output_type": "stream",
     "text": [
      "+-----------------+----------+---------------------+----------------------------+-------------------+-------------------------+----------------+----+------------------------+----+----------------+------------------+------+-------------------+-------------------------+----------+---------------------------+---------------+--------------------+---------------------+--------------------+------------------+-----------------------+--------+\n",
      "|fecha reporte web|ID de caso|Fecha de notificación|Código DIVIPOLA departamento|Nombre departamento|Código DIVIPOLA municipio|Nombre municipio|Edad|Unidad de medida de edad|Sexo|Tipo de contagio|Ubicación del caso|Estado|Código ISO del país|Nombre del país          |Recuperado|Fecha de inicio de síntomas|Fecha de muerte|Fecha de diagnóstico|Fecha de recuperación|Tipo de recuperación|Pertenencia étnica|Nombre del grupo étnico|yrs_left|\n",
      "+-----------------+----------+---------------------+----------------------------+-------------------+-------------------------+----------------+----+------------------------+----+----------------+------------------+------+-------------------+-------------------------+----------+---------------------------+---------------+--------------------+---------------------+--------------------+------------------+-----------------------+--------+\n",
      "|17/3/2020 0:00:00|66        |16/3/2020 0:00:00    |11                          |BOGOTA             |11001                    |BOGOTA          |40  |1                       |F   |Importado       |Casa              |Leve  |724                |ESPAÑA                   |Recuperado|11/3/2020 0:00:00          |null           |17/3/2020 0:00:00   |26/3/2020 0:00:00    |PCR                 |6                 |null                   |60      |\n",
      "|31/3/2020 0:00:00|832       |29/3/2020 0:00:00    |5                           |ANTIOQUIA          |5631                     |SABANETA        |59  |1                       |M   |Importado       |Casa              |Leve  |840                |ESTADOS UNIDOS DE AMÉRICA|Recuperado|20/3/2020 0:00:00          |null           |31/3/2020 0:00:00   |14/4/2020 0:00:00    |PCR                 |6                 |null                   |41      |\n",
      "|28/3/2020 0:00:00|595       |16/3/2020 0:00:00    |5                           |ANTIOQUIA          |5001                     |MEDELLIN        |27  |1                       |F   |Importado       |Casa              |Leve  |840                |ESTADOS UNIDOS DE AMÉRICA|Recuperado|10/3/2020 0:00:00          |null           |28/3/2020 0:00:00   |7/4/2020 0:00:00     |PCR                 |6                 |null                   |73      |\n",
      "|28/3/2020 0:00:00|540       |20/3/2020 0:00:00    |25                          |CUNDINAMARCA       |25473                    |MOSQUERA        |37  |1                       |M   |Importado       |Casa              |Leve  |818                |EGIPTO                   |Recuperado|16/3/2020 0:00:00          |null           |28/3/2020 0:00:00   |3/4/2020 0:00:00     |PCR                 |6                 |null                   |63      |\n",
      "|23/3/2020 0:00:00|275       |23/3/2020 0:00:00    |5                           |ANTIOQUIA          |5001                     |MEDELLIN        |21  |1                       |F   |Importado       |Casa              |Leve  |724                |ESPAÑA                   |Recuperado|8/3/2020 0:00:00           |null           |23/3/2020 0:00:00   |23/3/2020 0:00:00    |PCR                 |6                 |null                   |79      |\n",
      "|30/3/2020 0:00:00|746       |25/3/2020 0:00:00    |11                          |BOGOTA             |11001                    |BOGOTA          |54  |1                       |F   |Relacionado     |Casa              |Leve  |null               |null                     |Recuperado|23/3/2020 0:00:00          |null           |30/3/2020 0:00:00   |5/5/2020 0:00:00     |PCR                 |6                 |null                   |46      |\n",
      "|29/3/2020 0:00:00|680       |28/3/2020 0:00:00    |5                           |ANTIOQUIA          |5266                     |ENVIGADO        |18  |1                       |F   |Relacionado     |Casa              |Leve  |null               |null                     |Recuperado|17/3/2020 0:00:00          |null           |29/3/2020 0:00:00   |3/4/2020 0:00:00     |PCR                 |6                 |null                   |82      |\n",
      "|29/3/2020 0:00:00|692       |28/3/2020 0:00:00    |66                          |RISARALDA          |66001                    |PEREIRA         |62  |1                       |F   |Relacionado     |Casa              |Leve  |null               |null                     |Recuperado|27/3/2020 0:00:00          |null           |29/3/2020 0:00:00   |12/4/2020 0:00:00    |PCR                 |6                 |null                   |38      |\n",
      "|17/3/2020 0:00:00|77        |15/3/2020 0:00:00    |63                          |QUINDIO            |63001                    |ARMENIA         |18  |1                       |M   |Importado       |Casa              |Leve  |724                |ESPAÑA                   |Recuperado|11/3/2020 0:00:00          |null           |17/3/2020 0:00:00   |1/4/2020 0:00:00     |PCR                 |6                 |null                   |82      |\n",
      "|25/3/2020 0:00:00|461       |15/3/2020 0:00:00    |54                          |NORTE SANTANDER    |54001                    |CUCUTA          |44  |1                       |F   |Relacionado     |Casa              |Leve  |null               |null                     |Recuperado|15/3/2020 0:00:00          |null           |25/3/2020 0:00:00   |18/4/2020 0:00:00    |PCR                 |6                 |null                   |56      |\n",
      "+-----------------+----------+---------------------+----------------------------+-------------------+-------------------------+----------------+----+------------------------+----+----------------+------------------+------+-------------------+-------------------------+----------+---------------------------+---------------+--------------------+---------------------+--------------------+------------------+-----------------------+--------+\n",
      "only showing top 10 rows"
     ]
    }
   ],
   "source": [
    "#create udf using python function\n",
    "length_udf = udf(remaining_yrs, IntegerType())\n",
    "#apply pandas udf on dataframe\n",
    "df.withColumn(\"yrs_left\", length_udf(df['Edad'])).show(10,False)"
   ]
  },
  {
   "cell_type": "code",
   "execution_count": 53,
   "id": "89e07e88",
   "metadata": {},
   "outputs": [
    {
     "data": {
      "application/vnd.jupyter.widget-view+json": {
       "model_id": "",
       "version_major": 2,
       "version_minor": 0
      },
      "text/plain": [
       "FloatProgress(value=0.0, bar_style='info', description='Progress:', layout=Layout(height='25px', width='50%'),…"
      ]
     },
     "metadata": {},
     "output_type": "display_data"
    }
   ],
   "source": [
    "#udf using two columns\n",
    "def prod(rating,exp):\n",
    "    x=rating*exp\n",
    "    return x"
   ]
  },
  {
   "cell_type": "code",
   "execution_count": 57,
   "id": "54b627c7",
   "metadata": {},
   "outputs": [
    {
     "data": {
      "application/vnd.jupyter.widget-view+json": {
       "model_id": "",
       "version_major": 2,
       "version_minor": 0
      },
      "text/plain": [
       "FloatProgress(value=0.0, bar_style='info', description='Progress:', layout=Layout(height='25px', width='50%'),…"
      ]
     },
     "metadata": {},
     "output_type": "display_data"
    },
    {
     "name": "stdout",
     "output_type": "stream",
     "text": [
      "+-----------------+----------+---------------------+----------------------------+-------------------+-------------------------+----------------+----+------------------------+----+----------------+------------------+------+-------------------+-------------------------+----------+---------------------------+---------------+--------------------+---------------------+--------------------+------------------+-----------------------+-------+\n",
      "|fecha reporte web|ID de caso|Fecha de notificación|Código DIVIPOLA departamento|Nombre departamento|Código DIVIPOLA municipio|Nombre municipio|Edad|Unidad de medida de edad|Sexo|Tipo de contagio|Ubicación del caso|Estado|Código ISO del país|Nombre del país          |Recuperado|Fecha de inicio de síntomas|Fecha de muerte|Fecha de diagnóstico|Fecha de recuperación|Tipo de recuperación|Pertenencia étnica|Nombre del grupo étnico|product|\n",
      "+-----------------+----------+---------------------+----------------------------+-------------------+-------------------------+----------------+----+------------------------+----+----------------+------------------+------+-------------------+-------------------------+----------+---------------------------+---------------+--------------------+---------------------+--------------------+------------------+-----------------------+-------+\n",
      "|17/3/2020 0:00:00|66        |16/3/2020 0:00:00    |11                          |BOGOTA             |11001                    |BOGOTA          |40  |1                       |F   |Importado       |Casa              |Leve  |724                |ESPAÑA                   |Recuperado|11/3/2020 0:00:00          |null           |17/3/2020 0:00:00   |26/3/2020 0:00:00    |PCR                 |6                 |null                   |null   |\n",
      "|31/3/2020 0:00:00|832       |29/3/2020 0:00:00    |5                           |ANTIOQUIA          |5631                     |SABANETA        |59  |1                       |M   |Importado       |Casa              |Leve  |840                |ESTADOS UNIDOS DE AMÉRICA|Recuperado|20/3/2020 0:00:00          |null           |31/3/2020 0:00:00   |14/4/2020 0:00:00    |PCR                 |6                 |null                   |null   |\n",
      "|28/3/2020 0:00:00|595       |16/3/2020 0:00:00    |5                           |ANTIOQUIA          |5001                     |MEDELLIN        |27  |1                       |F   |Importado       |Casa              |Leve  |840                |ESTADOS UNIDOS DE AMÉRICA|Recuperado|10/3/2020 0:00:00          |null           |28/3/2020 0:00:00   |7/4/2020 0:00:00     |PCR                 |6                 |null                   |null   |\n",
      "|28/3/2020 0:00:00|540       |20/3/2020 0:00:00    |25                          |CUNDINAMARCA       |25473                    |MOSQUERA        |37  |1                       |M   |Importado       |Casa              |Leve  |818                |EGIPTO                   |Recuperado|16/3/2020 0:00:00          |null           |28/3/2020 0:00:00   |3/4/2020 0:00:00     |PCR                 |6                 |null                   |null   |\n",
      "|23/3/2020 0:00:00|275       |23/3/2020 0:00:00    |5                           |ANTIOQUIA          |5001                     |MEDELLIN        |21  |1                       |F   |Importado       |Casa              |Leve  |724                |ESPAÑA                   |Recuperado|8/3/2020 0:00:00           |null           |23/3/2020 0:00:00   |23/3/2020 0:00:00    |PCR                 |6                 |null                   |null   |\n",
      "|30/3/2020 0:00:00|746       |25/3/2020 0:00:00    |11                          |BOGOTA             |11001                    |BOGOTA          |54  |1                       |F   |Relacionado     |Casa              |Leve  |null               |null                     |Recuperado|23/3/2020 0:00:00          |null           |30/3/2020 0:00:00   |5/5/2020 0:00:00     |PCR                 |6                 |null                   |null   |\n",
      "|29/3/2020 0:00:00|680       |28/3/2020 0:00:00    |5                           |ANTIOQUIA          |5266                     |ENVIGADO        |18  |1                       |F   |Relacionado     |Casa              |Leve  |null               |null                     |Recuperado|17/3/2020 0:00:00          |null           |29/3/2020 0:00:00   |3/4/2020 0:00:00     |PCR                 |6                 |null                   |null   |\n",
      "|29/3/2020 0:00:00|692       |28/3/2020 0:00:00    |66                          |RISARALDA          |66001                    |PEREIRA         |62  |1                       |F   |Relacionado     |Casa              |Leve  |null               |null                     |Recuperado|27/3/2020 0:00:00          |null           |29/3/2020 0:00:00   |12/4/2020 0:00:00    |PCR                 |6                 |null                   |null   |\n",
      "|17/3/2020 0:00:00|77        |15/3/2020 0:00:00    |63                          |QUINDIO            |63001                    |ARMENIA         |18  |1                       |M   |Importado       |Casa              |Leve  |724                |ESPAÑA                   |Recuperado|11/3/2020 0:00:00          |null           |17/3/2020 0:00:00   |1/4/2020 0:00:00     |PCR                 |6                 |null                   |null   |\n",
      "|25/3/2020 0:00:00|461       |15/3/2020 0:00:00    |54                          |NORTE SANTANDER    |54001                    |CUCUTA          |44  |1                       |F   |Relacionado     |Casa              |Leve  |null               |null                     |Recuperado|15/3/2020 0:00:00          |null           |25/3/2020 0:00:00   |18/4/2020 0:00:00    |PCR                 |6                 |null                   |null   |\n",
      "+-----------------+----------+---------------------+----------------------------+-------------------+-------------------------+----------------+----+------------------------+----+----------------+------------------+------+-------------------+-------------------------+----------+---------------------------+---------------+--------------------+---------------------+--------------------+------------------+-----------------------+-------+\n",
      "only showing top 10 rows"
     ]
    }
   ],
   "source": [
    "#create udf using python function\n",
    "prod_udf = udf(prod, DoubleType())\n",
    "#apply pandas udf on multiple columns of dataframe\n",
    "df.withColumn(\"product\", prod_udf(df['Edad'],df['ID de caso'])).show(10,False)"
   ]
  },
  {
   "cell_type": "code",
   "execution_count": 55,
   "id": "c7650d2a",
   "metadata": {},
   "outputs": [
    {
     "data": {
      "application/vnd.jupyter.widget-view+json": {
       "model_id": "",
       "version_major": 2,
       "version_minor": 0
      },
      "text/plain": [
       "FloatProgress(value=0.0, bar_style='info', description='Progress:', layout=Layout(height='25px', width='50%'),…"
      ]
     },
     "metadata": {},
     "output_type": "display_data"
    },
    {
     "name": "stdout",
     "output_type": "stream",
     "text": [
      "1000"
     ]
    }
   ],
   "source": [
    "#duplicate values\n",
    "df.count()"
   ]
  },
  {
   "cell_type": "code",
   "execution_count": 56,
   "id": "a060cf81",
   "metadata": {},
   "outputs": [
    {
     "data": {
      "application/vnd.jupyter.widget-view+json": {
       "model_id": "",
       "version_major": 2,
       "version_minor": 0
      },
      "text/plain": [
       "FloatProgress(value=0.0, bar_style='info', description='Progress:', layout=Layout(height='25px', width='50%'),…"
      ]
     },
     "metadata": {},
     "output_type": "display_data"
    }
   ],
   "source": [
    "#drop duplicate values\n",
    "df=df.dropDuplicates()"
   ]
  },
  {
   "cell_type": "code",
   "execution_count": 60,
   "id": "ff427d07",
   "metadata": {},
   "outputs": [
    {
     "data": {
      "application/vnd.jupyter.widget-view+json": {
       "model_id": "",
       "version_major": 2,
       "version_minor": 0
      },
      "text/plain": [
       "FloatProgress(value=0.0, bar_style='info', description='Progress:', layout=Layout(height='25px', width='50%'),…"
      ]
     },
     "metadata": {},
     "output_type": "display_data"
    },
    {
     "name": "stdout",
     "output_type": "stream",
     "text": [
      "1000"
     ]
    }
   ],
   "source": [
    "#validate new count\n",
    "df.count()"
   ]
  },
  {
   "cell_type": "code",
   "execution_count": 61,
   "id": "323f6319",
   "metadata": {},
   "outputs": [
    {
     "data": {
      "application/vnd.jupyter.widget-view+json": {
       "model_id": "",
       "version_major": 2,
       "version_minor": 0
      },
      "text/plain": [
       "FloatProgress(value=0.0, bar_style='info', description='Progress:', layout=Layout(height='25px', width='50%'),…"
      ]
     },
     "metadata": {},
     "output_type": "display_data"
    }
   ],
   "source": [
    "#drop column of dataframe\n",
    "df_new=df.drop('Tipo de contagio')"
   ]
  },
  {
   "cell_type": "code",
   "execution_count": 62,
   "id": "0c7468aa",
   "metadata": {},
   "outputs": [
    {
     "data": {
      "application/vnd.jupyter.widget-view+json": {
       "model_id": "",
       "version_major": 2,
       "version_minor": 0
      },
      "text/plain": [
       "FloatProgress(value=0.0, bar_style='info', description='Progress:', layout=Layout(height='25px', width='50%'),…"
      ]
     },
     "metadata": {},
     "output_type": "display_data"
    },
    {
     "name": "stdout",
     "output_type": "stream",
     "text": [
      "+-----------------+----------+---------------------+----------------------------+-------------------+-------------------------+----------------+----+------------------------+----+------------------+------+-------------------+--------------------+----------+---------------------------+---------------+--------------------+---------------------+--------------------+------------------+-----------------------+\n",
      "|fecha reporte web|ID de caso|Fecha de notificación|Código DIVIPOLA departamento|Nombre departamento|Código DIVIPOLA municipio|Nombre municipio|Edad|Unidad de medida de edad|Sexo|Ubicación del caso|Estado|Código ISO del país|     Nombre del país|Recuperado|Fecha de inicio de síntomas|Fecha de muerte|Fecha de diagnóstico|Fecha de recuperación|Tipo de recuperación|Pertenencia étnica|Nombre del grupo étnico|\n",
      "+-----------------+----------+---------------------+----------------------------+-------------------+-------------------------+----------------+----+------------------------+----+------------------+------+-------------------+--------------------+----------+---------------------------+---------------+--------------------+---------------------+--------------------+------------------+-----------------------+\n",
      "|17/3/2020 0:00:00|        66|    16/3/2020 0:00:00|                          11|             BOGOTA|                    11001|          BOGOTA|  40|                       1|   F|              Casa|  Leve|                724|              ESPAÑA|Recuperado|          11/3/2020 0:00:00|           null|   17/3/2020 0:00:00|    26/3/2020 0:00:00|                 PCR|                 6|                   null|\n",
      "|31/3/2020 0:00:00|       832|    29/3/2020 0:00:00|                           5|          ANTIOQUIA|                     5631|        SABANETA|  59|                       1|   M|              Casa|  Leve|                840|ESTADOS UNIDOS DE...|Recuperado|          20/3/2020 0:00:00|           null|   31/3/2020 0:00:00|    14/4/2020 0:00:00|                 PCR|                 6|                   null|\n",
      "|28/3/2020 0:00:00|       595|    16/3/2020 0:00:00|                           5|          ANTIOQUIA|                     5001|        MEDELLIN|  27|                       1|   F|              Casa|  Leve|                840|ESTADOS UNIDOS DE...|Recuperado|          10/3/2020 0:00:00|           null|   28/3/2020 0:00:00|     7/4/2020 0:00:00|                 PCR|                 6|                   null|\n",
      "|28/3/2020 0:00:00|       540|    20/3/2020 0:00:00|                          25|       CUNDINAMARCA|                    25473|        MOSQUERA|  37|                       1|   M|              Casa|  Leve|                818|              EGIPTO|Recuperado|          16/3/2020 0:00:00|           null|   28/3/2020 0:00:00|     3/4/2020 0:00:00|                 PCR|                 6|                   null|\n",
      "|23/3/2020 0:00:00|       275|    23/3/2020 0:00:00|                           5|          ANTIOQUIA|                     5001|        MEDELLIN|  21|                       1|   F|              Casa|  Leve|                724|              ESPAÑA|Recuperado|           8/3/2020 0:00:00|           null|   23/3/2020 0:00:00|    23/3/2020 0:00:00|                 PCR|                 6|                   null|\n",
      "|30/3/2020 0:00:00|       746|    25/3/2020 0:00:00|                          11|             BOGOTA|                    11001|          BOGOTA|  54|                       1|   F|              Casa|  Leve|               null|                null|Recuperado|          23/3/2020 0:00:00|           null|   30/3/2020 0:00:00|     5/5/2020 0:00:00|                 PCR|                 6|                   null|\n",
      "|29/3/2020 0:00:00|       680|    28/3/2020 0:00:00|                           5|          ANTIOQUIA|                     5266|        ENVIGADO|  18|                       1|   F|              Casa|  Leve|               null|                null|Recuperado|          17/3/2020 0:00:00|           null|   29/3/2020 0:00:00|     3/4/2020 0:00:00|                 PCR|                 6|                   null|\n",
      "|29/3/2020 0:00:00|       692|    28/3/2020 0:00:00|                          66|          RISARALDA|                    66001|         PEREIRA|  62|                       1|   F|              Casa|  Leve|               null|                null|Recuperado|          27/3/2020 0:00:00|           null|   29/3/2020 0:00:00|    12/4/2020 0:00:00|                 PCR|                 6|                   null|\n",
      "|17/3/2020 0:00:00|        77|    15/3/2020 0:00:00|                          63|            QUINDIO|                    63001|         ARMENIA|  18|                       1|   M|              Casa|  Leve|                724|              ESPAÑA|Recuperado|          11/3/2020 0:00:00|           null|   17/3/2020 0:00:00|     1/4/2020 0:00:00|                 PCR|                 6|                   null|\n",
      "|25/3/2020 0:00:00|       461|    15/3/2020 0:00:00|                          54|    NORTE SANTANDER|                    54001|          CUCUTA|  44|                       1|   F|              Casa|  Leve|               null|                null|Recuperado|          15/3/2020 0:00:00|           null|   25/3/2020 0:00:00|    18/4/2020 0:00:00|                 PCR|                 6|                   null|\n",
      "+-----------------+----------+---------------------+----------------------------+-------------------+-------------------------+----------------+----+------------------------+----+------------------+------+-------------------+--------------------+----------+---------------------------+---------------+--------------------+---------------------+--------------------+------------------+-----------------------+\n",
      "only showing top 10 rows"
     ]
    }
   ],
   "source": [
    "df_new.show(10)"
   ]
  },
  {
   "cell_type": "code",
   "execution_count": 71,
   "id": "6f726b57",
   "metadata": {},
   "outputs": [
    {
     "data": {
      "application/vnd.jupyter.widget-view+json": {
       "model_id": "",
       "version_major": 2,
       "version_minor": 0
      },
      "text/plain": [
       "FloatProgress(value=0.0, bar_style='info', description='Progress:', layout=Layout(height='25px', width='50%'),…"
      ]
     },
     "metadata": {},
     "output_type": "display_data"
    }
   ],
   "source": [
    "#target directory\n",
    "write_uri='s3://jupyterjorge/trusted/datasets/covid19/results'"
   ]
  },
  {
   "cell_type": "code",
   "execution_count": 72,
   "id": "22958866",
   "metadata": {},
   "outputs": [
    {
     "data": {
      "application/vnd.jupyter.widget-view+json": {
       "model_id": "",
       "version_major": 2,
       "version_minor": 0
      },
      "text/plain": [
       "FloatProgress(value=0.0, bar_style='info', description='Progress:', layout=Layout(height='25px', width='50%'),…"
      ]
     },
     "metadata": {},
     "output_type": "display_data"
    }
   ],
   "source": [
    "#save the dataframe as single csv\n",
    "df.coalesce(1).write.format(\"csv\").option(\"header\",\"true\").save(write_uri)"
   ]
  },
  {
   "cell_type": "code",
   "execution_count": 73,
   "id": "b581937d",
   "metadata": {},
   "outputs": [
    {
     "data": {
      "application/vnd.jupyter.widget-view+json": {
       "model_id": "",
       "version_major": 2,
       "version_minor": 0
      },
      "text/plain": [
       "FloatProgress(value=0.0, bar_style='info', description='Progress:', layout=Layout(height='25px', width='50%'),…"
      ]
     },
     "metadata": {},
     "output_type": "display_data"
    }
   ],
   "source": [
    "#target location\n",
    "parquet_uri='s3://jupyterjorge/trusted/datasets/covid19/results_parquet'"
   ]
  },
  {
   "cell_type": "code",
   "execution_count": 74,
   "id": "553309b9",
   "metadata": {},
   "outputs": [
    {
     "data": {
      "application/vnd.jupyter.widget-view+json": {
       "model_id": "",
       "version_major": 2,
       "version_minor": 0
      },
      "text/plain": [
       "FloatProgress(value=0.0, bar_style='info', description='Progress:', layout=Layout(height='25px', width='50%'),…"
      ]
     },
     "metadata": {},
     "output_type": "display_data"
    }
   ],
   "source": [
    "#save the data into parquet format\n",
    "df.write.format('parquet').save(parquet_uri)"
   ]
  },
  {
   "cell_type": "code",
   "execution_count": null,
   "id": "a62984b3",
   "metadata": {},
   "outputs": [],
   "source": []
  }
 ],
 "metadata": {
  "kernelspec": {
   "display_name": "PySpark",
   "language": "python",
   "name": "pysparkkernel"
  },
  "language_info": {
   "codemirror_mode": {
    "name": "python",
    "version": 3
   },
   "file_extension": ".py",
   "mimetype": "text/x-python",
   "name": "pyspark",
   "pygments_lexer": "python3"
  }
 },
 "nbformat": 4,
 "nbformat_minor": 5
}
