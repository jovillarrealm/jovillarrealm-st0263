{
  "cells": [
    {
      "cell_type": "markdown",
      "metadata": {
        "id": "G_5Ey5TjQ3kd"
      },
      "source": [
        "# Data Processing using Pyspark"
      ]
    },
    {
      "cell_type": "code",
      "execution_count": null,
      "metadata": {
        "id": "fQ6fiuJWQ3ki"
      },
      "outputs": [],
      "source": [
        "\n",
        "from pyspark.sql import SparkSession\n",
        "spark = SparkSession.builder.master(\"local[*]\").getOrCreate()\n",
        "sc = spark.sparkContext"
      ]
    },
    {
      "cell_type": "code",
      "execution_count": null,
      "metadata": {
        "id": "WNeMHXFIQ3kj"
      },
      "outputs": [],
      "source": [
        "spark"
      ]
    },
    {
      "cell_type": "code",
      "execution_count": null,
      "metadata": {
        "id": "kHvfABJGQ3kk"
      },
      "outputs": [],
      "source": [
        "sc"
      ]
    },
    {
      "cell_type": "code",
      "execution_count": null,
      "metadata": {
        "id": "swjlTLibQ3km"
      },
      "outputs": [],
      "source": [
        "# Load csv Dataset\n",
        "#df=spark.read.csv('s3://<bucket/dir>/sample_data.csv',inferSchema=True,header=True)\n",
        "df=spark.read.csv(\"gdrive/MyDrive/datasets/covid19/Casos_positivos_de_COVID-19_en_Colombia-1K.csv\",inferSchema=True,header=True)"
      ]
    },
    {
      "cell_type": "code",
      "execution_count": null,
      "metadata": {
        "id": "Vgqgx--UQ3kn"
      },
      "outputs": [],
      "source": [
        "#columns of dataframe\n",
        "df.columns"
      ]
    },
    {
      "cell_type": "code",
      "execution_count": null,
      "metadata": {
        "id": "wnrtIDMmQ3ko"
      },
      "outputs": [],
      "source": [
        "#check number of columns\n",
        "len(df.columns)"
      ]
    },
    {
      "cell_type": "code",
      "execution_count": null,
      "metadata": {
        "id": "-E_s7_UXQ3kp"
      },
      "outputs": [],
      "source": [
        "#number of records in dataframe\n",
        "df.count()"
      ]
    },
    {
      "cell_type": "code",
      "execution_count": null,
      "metadata": {
        "id": "Ht_qPDndQ3kq"
      },
      "outputs": [],
      "source": [
        "#shape of dataset\n",
        "print((df.count(),len(df.columns)))"
      ]
    },
    {
      "cell_type": "code",
      "execution_count": null,
      "metadata": {
        "id": "nTL0cUt7Q3kq"
      },
      "outputs": [],
      "source": [
        "#printSchema\n",
        "df.printSchema()"
      ]
    },
    {
      "cell_type": "code",
      "execution_count": null,
      "metadata": {
        "id": "vYKLP0OrQ3kr"
      },
      "outputs": [],
      "source": [
        "#fisrt few rows of dataframe\n",
        "df.show(5)"
      ]
    },
    {
      "cell_type": "code",
      "execution_count": null,
      "metadata": {
        "id": "VZgDlMQ9Q3kr"
      },
      "outputs": [],
      "source": [
        "\n",
        "#select only 2 columns\n",
        "df.select('Nombre departamento','Nombre municipio').show(5)"
      ]
    },
    {
      "cell_type": "code",
      "execution_count": null,
      "metadata": {
        "id": "LW0-oQKkQ3kr"
      },
      "outputs": [],
      "source": [
        "#info about dataframe\n",
        "df.describe().show()"
      ]
    },
    {
      "cell_type": "code",
      "execution_count": null,
      "metadata": {
        "id": "dYzMGKGwQ3ks"
      },
      "outputs": [],
      "source": [
        "from pyspark.sql.types import StringType,DoubleType,IntegerType"
      ]
    },
    {
      "cell_type": "code",
      "execution_count": null,
      "metadata": {
        "id": "YMd10LgAQ3ks"
      },
      "outputs": [],
      "source": [
        "#with column\n",
        "df.withColumn(\"Edad_after_10_yrs\",(df[\"Edad\"]+10)).show(10,False)"
      ]
    },
    {
      "cell_type": "code",
      "execution_count": null,
      "metadata": {
        "id": "AcId3shPQ3ks"
      },
      "outputs": [],
      "source": [
        "df.withColumn('Edad_double',df['Edad'].cast(DoubleType())).show(10,False)"
      ]
    },
    {
      "cell_type": "code",
      "execution_count": null,
      "metadata": {
        "id": "UEAHVYg0Q3kt"
      },
      "outputs": [],
      "source": [
        "#with column\n",
        "df.withColumn(\"Edad_after_10_yrs\",(df[\"Edad\"]+10)).show(10,False)"
      ]
    },
    {
      "cell_type": "code",
      "execution_count": null,
      "metadata": {
        "id": "3tH___VTQ3kt"
      },
      "outputs": [],
      "source": [
        "#filter the records\n",
        "df.filter(df['Tipo de contagio']=='Importado').show()"
      ]
    },
    {
      "cell_type": "code",
      "execution_count": null,
      "metadata": {
        "id": "8PHrtdGgQ3kt"
      },
      "outputs": [],
      "source": [
        "#filter the records\n",
        "df.filter(df['Tipo de contagio']=='Importado').select('Edad','Sexo','Tipo de contagio').show()"
      ]
    },
    {
      "cell_type": "code",
      "execution_count": null,
      "metadata": {
        "id": "02g03YBvQ3kt"
      },
      "outputs": [],
      "source": [
        "#filter the multiple conditions\n",
        "df.filter(df['Tipo de contagio']=='Importado').filter(df['ID de caso'] >10).show()"
      ]
    },
    {
      "cell_type": "code",
      "execution_count": null,
      "metadata": {
        "id": "RQDlbIpjQ3kt"
      },
      "outputs": [],
      "source": [
        "#filter the multiple conditions\n",
        "df.filter((df['Tipo de contagio']=='Importado')&(df['ID de caso'] >10)).show()"
      ]
    },
    {
      "cell_type": "code",
      "execution_count": null,
      "metadata": {
        "id": "lGNaBFO3Q3ku"
      },
      "outputs": [],
      "source": [
        "#Distinct Values in a column\n",
        "df.select('Tipo de contagio').distinct().show()"
      ]
    },
    {
      "cell_type": "code",
      "execution_count": null,
      "metadata": {
        "id": "o_G321ncQ3ku"
      },
      "outputs": [],
      "source": [
        "#distinct value count\n",
        "df.select('Tipo de contagio').distinct().count()"
      ]
    },
    {
      "cell_type": "code",
      "execution_count": null,
      "metadata": {
        "id": "iYngppE5Q3ku"
      },
      "outputs": [],
      "source": [
        "df.groupBy('Tipo de contagio').count().show(5,False)"
      ]
    },
    {
      "cell_type": "code",
      "execution_count": null,
      "metadata": {
        "id": "nAVK4o_3Q3kv"
      },
      "outputs": [],
      "source": [
        "# Value counts\n",
        "df.groupBy('Tipo de contagio').count().orderBy('count',ascending=False).show(5,False)"
      ]
    },
    {
      "cell_type": "code",
      "execution_count": null,
      "metadata": {
        "id": "nSEU952MQ3kv"
      },
      "outputs": [],
      "source": [
        "# Value counts\n",
        "df.groupBy('Tipo de contagio').mean().show(5,False)"
      ]
    },
    {
      "cell_type": "code",
      "execution_count": null,
      "metadata": {
        "id": "_umeEr49Q3kv"
      },
      "outputs": [],
      "source": [
        "df.groupBy('Tipo de contagio').sum().show(5,False)"
      ]
    },
    {
      "cell_type": "code",
      "execution_count": null,
      "metadata": {
        "id": "Gd_axbbfQ3kv"
      },
      "outputs": [],
      "source": [
        "# Value counts\n",
        "df.groupBy('Tipo de contagio').max().show(5,False)"
      ]
    },
    {
      "cell_type": "code",
      "execution_count": null,
      "metadata": {
        "id": "J1U3JWbtQ3kv"
      },
      "outputs": [],
      "source": [
        "# Value counts\n",
        "df.groupBy('Tipo de contagio').min().show(5,False)"
      ]
    },
    {
      "cell_type": "code",
      "execution_count": null,
      "metadata": {
        "id": "Ihx0beH-Q3kw"
      },
      "outputs": [],
      "source": [
        "#Aggregation\n",
        "df.groupBy('Tipo de contagio').agg({'ID de caso':'sum'}).show(5,False)"
      ]
    },
    {
      "cell_type": "code",
      "execution_count": null,
      "metadata": {
        "id": "mWj4riLLQ3kw"
      },
      "outputs": [],
      "source": [
        "# UDF\n",
        "from pyspark.sql.functions import udf\n"
      ]
    },
    {
      "cell_type": "code",
      "execution_count": null,
      "metadata": {
        "id": "M_IsKGL6Q3kw"
      },
      "outputs": [],
      "source": [
        "#normal function\n",
        "def price_range(brand):\n",
        "    if brand in ['Comunitaria', 'Relacionado']:\n",
        "        return 'Comunitaria o Relacionado'\n",
        "    elif brand =='Importado':\n",
        "        return 'Importado'\n",
        "    else:\n",
        "        return 'En estudio'"
      ]
    },
    {
      "cell_type": "code",
      "execution_count": null,
      "metadata": {
        "id": "1EDV45doQ3kw"
      },
      "outputs": [],
      "source": [
        "#create udf using python function\n",
        "brand_udf=udf(price_range,StringType())\n",
        "#apply udf on dataframe\n",
        "df.withColumn('price_range',brand_udf(df['Tipo de contagio'])).show(10,False)"
      ]
    },
    {
      "cell_type": "code",
      "execution_count": null,
      "metadata": {
        "id": "DlpZ539zQ3kx"
      },
      "outputs": [],
      "source": [
        "#using lambda function\n",
        "age_udf = udf(lambda Edad: \"young\" if Edad <= 30 else \"senior\", StringType())\n",
        "#apply udf on dataframe\n",
        "df.withColumn(\"age_group\", age_udf(df.Edad)).show(10,False)"
      ]
    },
    {
      "cell_type": "code",
      "execution_count": null,
      "metadata": {
        "id": "2h_EKuLnQ3kx"
      },
      "outputs": [],
      "source": [
        "#pandas udf\n",
        "from pyspark.sql.functions import pandas_udf, PandasUDFType"
      ]
    },
    {
      "cell_type": "code",
      "execution_count": null,
      "metadata": {
        "id": "k-KHVWgHQ3kx"
      },
      "outputs": [],
      "source": [
        "#create python function\n",
        "def remaining_yrs(age):\n",
        "    yrs_left=100-age\n",
        "\n",
        "    return yrs_left"
      ]
    },
    {
      "cell_type": "code",
      "execution_count": null,
      "metadata": {
        "id": "rFXFz2MIQ3kx"
      },
      "outputs": [],
      "source": [
        "#create udf using python function\n",
        "length_udf = udf(remaining_yrs, IntegerType())\n",
        "#apply pandas udf on dataframe\n",
        "df.withColumn(\"yrs_left\", length_udf(df['Edad'])).show(10,False)"
      ]
    },
    {
      "cell_type": "code",
      "execution_count": null,
      "metadata": {
        "id": "4IxY5CkIQ3ky"
      },
      "outputs": [],
      "source": [
        "#udf using two columns\n",
        "def prod(rating,exp):\n",
        "    x=rating*exp\n",
        "    return x"
      ]
    },
    {
      "cell_type": "code",
      "execution_count": null,
      "metadata": {
        "id": "aIkOQRwLQ3ky"
      },
      "outputs": [],
      "source": [
        "#create udf using python function\n",
        "prod_udf = udf(prod, DoubleType())\n",
        "#apply pandas udf on multiple columns of dataframe\n",
        "df.withColumn(\"product\", prod_udf(df['Edad'],df['ID de caso'])).show(10,False)"
      ]
    },
    {
      "cell_type": "code",
      "execution_count": null,
      "metadata": {
        "id": "_mlAPv-dQ3ky"
      },
      "outputs": [],
      "source": [
        "#duplicate values\n",
        "df.count()"
      ]
    },
    {
      "cell_type": "code",
      "execution_count": null,
      "metadata": {
        "id": "XQc8YEvYQ3ky"
      },
      "outputs": [],
      "source": [
        "#drop duplicate values\n",
        "df=df.dropDuplicates()"
      ]
    },
    {
      "cell_type": "code",
      "execution_count": null,
      "metadata": {
        "id": "95T6zHp3Q3kz"
      },
      "outputs": [],
      "source": [
        "#validate new count\n",
        "df.count()"
      ]
    },
    {
      "cell_type": "code",
      "execution_count": null,
      "metadata": {
        "id": "VB2NSOi0Q3kz"
      },
      "outputs": [],
      "source": [
        "#drop column of dataframe\n",
        "df_new=df.drop('Tipo de contagio')"
      ]
    },
    {
      "cell_type": "code",
      "execution_count": null,
      "metadata": {
        "id": "rUZconarQ3kz"
      },
      "outputs": [],
      "source": [
        "df_new.show(10)"
      ]
    },
    {
      "cell_type": "code",
      "execution_count": null,
      "metadata": {
        "id": "EBy2l0zIQ3kz"
      },
      "outputs": [],
      "source": [
        "# saving file (csv)"
      ]
    },
    {
      "cell_type": "code",
      "execution_count": null,
      "metadata": {
        "id": "QD7PJegMQ3k1"
      },
      "outputs": [],
      "source": [
        "#target directory\n",
        "write_uri='s3://jupyterjorge/trusted/datasets/covid19/results'"
      ]
    },
    {
      "cell_type": "code",
      "execution_count": null,
      "metadata": {
        "id": "E07VLNxKQ3k1"
      },
      "outputs": [],
      "source": [
        "#save the dataframe as single csv\n",
        "df.coalesce(1).write.format(\"csv\").option(\"header\",\"true\").save(write_uri)"
      ]
    },
    {
      "cell_type": "code",
      "execution_count": null,
      "metadata": {
        "id": "_6S3flNlQ3k2"
      },
      "outputs": [],
      "source": [
        "# parquet"
      ]
    },
    {
      "cell_type": "code",
      "execution_count": null,
      "metadata": {
        "id": "EQ7GLLBRQ3k2"
      },
      "outputs": [],
      "source": [
        "#target location\n",
        "parquet_uri='s3://jupyterjorge/trusted/datasets/covid19/results_parquet'"
      ]
    },
    {
      "cell_type": "code",
      "execution_count": null,
      "metadata": {
        "id": "yqoIKH5JQ3k2"
      },
      "outputs": [],
      "source": [
        "#save the data into parquet format\n",
        "df.write.format('parquet').save(parquet_uri)"
      ]
    },
    {
      "cell_type": "code",
      "execution_count": null,
      "metadata": {
        "id": "6c6Wqg3MQ3k2"
      },
      "outputs": [],
      "source": []
    }
  ],
  "metadata": {
    "colab": {
      "provenance": []
    },
    "kernelspec": {
      "display_name": "Python 3.10.8 64-bit",
      "language": "python",
      "name": "python3"
    },
    "language_info": {
      "codemirror_mode": {
        "name": "ipython",
        "version": 3
      },
      "file_extension": ".py",
      "mimetype": "text/x-python",
      "name": "python",
      "nbconvert_exporter": "python",
      "pygments_lexer": "ipython3",
      "version": "3.10.8"
    },
    "vscode": {
      "interpreter": {
        "hash": "aee8b7b246df8f9039afb4144a1f6fd8d2ca17a180786b69acc140d282b71a49"
      }
    }
  },
  "nbformat": 4,
  "nbformat_minor": 0
}
