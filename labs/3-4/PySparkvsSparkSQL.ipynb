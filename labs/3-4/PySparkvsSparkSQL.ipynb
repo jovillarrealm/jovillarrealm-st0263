{
 "cells": [
  {
   "cell_type": "code",
   "execution_count": 1,
   "id": "ad136d6c",
   "metadata": {},
   "outputs": [
    {
     "name": "stdout",
     "output_type": "stream",
     "text": [
      "Starting Spark application\n"
     ]
    },
    {
     "data": {
      "text/html": [
       "<table>\n",
       "<tr><th>ID</th><th>YARN Application ID</th><th>Kind</th><th>State</th><th>Spark UI</th><th>Driver log</th><th>User</th><th>Current session?</th></tr><tr><td>3</td><td>application_1700874866306_0004</td><td>pyspark</td><td>idle</td><td><a target=\"_blank\" href=\"http://ip-172-31-69-233.ec2.internal:20888/proxy/application_1700874866306_0004/\">Link</a></td><td><a target=\"_blank\" href=\"http://ip-172-31-79-189.ec2.internal:8042/node/containerlogs/container_1700874866306_0004_01_000001/livy\">Link</a></td><td>None</td><td>✔</td></tr></table>"
      ],
      "text/plain": [
       "<IPython.core.display.HTML object>"
      ]
     },
     "metadata": {},
     "output_type": "display_data"
    },
    {
     "data": {
      "application/vnd.jupyter.widget-view+json": {
       "model_id": "",
       "version_major": 2,
       "version_minor": 0
      },
      "text/plain": [
       "FloatProgress(value=0.0, bar_style='info', description='Progress:', layout=Layout(height='25px', width='50%'),…"
      ]
     },
     "metadata": {},
     "output_type": "display_data"
    },
    {
     "name": "stdout",
     "output_type": "stream",
     "text": [
      "SparkSession available as 'spark'.\n"
     ]
    },
    {
     "data": {
      "application/vnd.jupyter.widget-view+json": {
       "model_id": "",
       "version_major": 2,
       "version_minor": 0
      },
      "text/plain": [
       "FloatProgress(value=0.0, bar_style='info', description='Progress:', layout=Layout(height='25px', width='50%'),…"
      ]
     },
     "metadata": {},
     "output_type": "display_data"
    }
   ],
   "source": [
    "from pyspark.sql import SparkSession        \n",
    "# Create a SparkSession\n",
    "spark = (SparkSession\n",
    "  .builder\n",
    "  .appName(\"SparkSQLExampleApp\")\n",
    "  .getOrCreate())"
   ]
  },
  {
   "cell_type": "code",
   "execution_count": 2,
   "id": "b80cf5de",
   "metadata": {},
   "outputs": [
    {
     "data": {
      "application/vnd.jupyter.widget-view+json": {
       "model_id": "",
       "version_major": 2,
       "version_minor": 0
      },
      "text/plain": [
       "FloatProgress(value=0.0, bar_style='info', description='Progress:', layout=Layout(height='25px', width='50%'),…"
      ]
     },
     "metadata": {},
     "output_type": "display_data"
    }
   ],
   "source": [
    "csv_file = \"s3://jupyterjorge/raw/datasets/covid19/Casos_positivos_de_COVID-19_en_Colombia-100K.csv\""
   ]
  },
  {
   "cell_type": "code",
   "execution_count": 3,
   "id": "abbd8304",
   "metadata": {},
   "outputs": [
    {
     "data": {
      "application/vnd.jupyter.widget-view+json": {
       "model_id": "",
       "version_major": 2,
       "version_minor": 0
      },
      "text/plain": [
       "FloatProgress(value=0.0, bar_style='info', description='Progress:', layout=Layout(height='25px', width='50%'),…"
      ]
     },
     "metadata": {},
     "output_type": "display_data"
    }
   ],
   "source": [
    "df = (spark.read.format(\"csv\")\n",
    "  .option(\"inferSchema\", \"true\")\n",
    "  .option(\"header\", \"true\")\n",
    "  .load(csv_file))"
   ]
  },
  {
   "cell_type": "code",
   "execution_count": 4,
   "id": "5dcc332a",
   "metadata": {},
   "outputs": [
    {
     "data": {
      "application/vnd.jupyter.widget-view+json": {
       "model_id": "",
       "version_major": 2,
       "version_minor": 0
      },
      "text/plain": [
       "FloatProgress(value=0.0, bar_style='info', description='Progress:', layout=Layout(height='25px', width='50%'),…"
      ]
     },
     "metadata": {},
     "output_type": "display_data"
    },
    {
     "name": "stdout",
     "output_type": "stream",
     "text": [
      "root\n",
      " |-- fecha reporte web: string (nullable = true)\n",
      " |-- ID de caso: integer (nullable = true)\n",
      " |-- Fecha de notificación: string (nullable = true)\n",
      " |-- Código DIVIPOLA departamento: integer (nullable = true)\n",
      " |-- Nombre departamento: string (nullable = true)\n",
      " |-- Código DIVIPOLA municipio: integer (nullable = true)\n",
      " |-- Nombre municipio: string (nullable = true)\n",
      " |-- Edad: integer (nullable = true)\n",
      " |-- Unidad de medida de edad: integer (nullable = true)\n",
      " |-- Sexo: string (nullable = true)\n",
      " |-- Tipo de contagio: string (nullable = true)\n",
      " |-- Ubicación del caso: string (nullable = true)\n",
      " |-- Estado: string (nullable = true)\n",
      " |-- Código ISO del país: integer (nullable = true)\n",
      " |-- Nombre del país: string (nullable = true)\n",
      " |-- Recuperado: string (nullable = true)\n",
      " |-- Fecha de inicio de síntomas: string (nullable = true)\n",
      " |-- Fecha de muerte: string (nullable = true)\n",
      " |-- Fecha de diagnóstico: string (nullable = true)\n",
      " |-- Fecha de recuperación: string (nullable = true)\n",
      " |-- Tipo de recuperación: string (nullable = true)\n",
      " |-- Pertenencia étnica: integer (nullable = true)\n",
      " |-- Nombre del grupo étnico: string (nullable = true)"
     ]
    }
   ],
   "source": [
    "df.printSchema()"
   ]
  },
  {
   "cell_type": "markdown",
   "id": "ee28c034",
   "metadata": {},
   "source": [
    "# PySpark"
   ]
  },
  {
   "cell_type": "code",
   "execution_count": 5,
   "id": "13b30b34",
   "metadata": {},
   "outputs": [
    {
     "data": {
      "application/vnd.jupyter.widget-view+json": {
       "model_id": "",
       "version_major": 2,
       "version_minor": 0
      },
      "text/plain": [
       "FloatProgress(value=0.0, bar_style='info', description='Progress:', layout=Layout(height='25px', width='50%'),…"
      ]
     },
     "metadata": {},
     "output_type": "display_data"
    },
    {
     "name": "stdout",
     "output_type": "stream",
     "text": [
      "+-------------------+-----+\n",
      "|Nombre departamento|count|\n",
      "+-------------------+-----+\n",
      "|             BOGOTA|30016|\n",
      "|       BARRANQUILLA|13065|\n",
      "|          ATLANTICO|10994|\n",
      "|              VALLE|10404|\n",
      "|          CARTAGENA| 8333|\n",
      "|          ANTIOQUIA| 4554|\n",
      "|             NARIÑO| 3520|\n",
      "|       CUNDINAMARCA| 2827|\n",
      "|           AMAZONAS| 2317|\n",
      "|              CHOCO| 1636|\n",
      "+-------------------+-----+\n",
      "only showing top 10 rows"
     ]
    }
   ],
   "source": [
    "df.groupBy(\"Nombre departamento\").count().orderBy(\"count\", ascending=False).show(10)\n"
   ]
  },
  {
   "cell_type": "code",
   "execution_count": 6,
   "id": "69951944",
   "metadata": {},
   "outputs": [
    {
     "data": {
      "application/vnd.jupyter.widget-view+json": {
       "model_id": "",
       "version_major": 2,
       "version_minor": 0
      },
      "text/plain": [
       "FloatProgress(value=0.0, bar_style='info', description='Progress:', layout=Layout(height='25px', width='50%'),…"
      ]
     },
     "metadata": {},
     "output_type": "display_data"
    },
    {
     "name": "stdout",
     "output_type": "stream",
     "text": [
      "+----------------+-----+\n",
      "|Nombre municipio|count|\n",
      "+----------------+-----+\n",
      "|          BOGOTA|30016|\n",
      "|    BARRANQUILLA|13065|\n",
      "|       CARTAGENA| 8333|\n",
      "|            CALI| 7747|\n",
      "|         SOLEDAD| 6233|\n",
      "|         LETICIA| 2194|\n",
      "|        MEDELLIN| 2137|\n",
      "|          TUMACO| 1501|\n",
      "|    BUENAVENTURA| 1453|\n",
      "|          QUIBDO| 1367|\n",
      "+----------------+-----+\n",
      "only showing top 10 rows"
     ]
    }
   ],
   "source": [
    "df.groupBy(\"Nombre municipio\").count().orderBy(\"count\", ascending=False).show(10)\n"
   ]
  },
  {
   "cell_type": "code",
   "execution_count": null,
   "id": "06077ab9",
   "metadata": {},
   "outputs": [],
   "source": []
  },
  {
   "cell_type": "code",
   "execution_count": 7,
   "id": "3abf1eaa",
   "metadata": {},
   "outputs": [
    {
     "data": {
      "application/vnd.jupyter.widget-view+json": {
       "model_id": "",
       "version_major": 2,
       "version_minor": 0
      },
      "text/plain": [
       "FloatProgress(value=0.0, bar_style='info', description='Progress:', layout=Layout(height='25px', width='50%'),…"
      ]
     },
     "metadata": {},
     "output_type": "display_data"
    },
    {
     "name": "stderr",
     "output_type": "stream",
     "text": [
      "An error was encountered:\n",
      "[UNRESOLVED_COLUMN.WITH_SUGGESTION] A column or function parameter with name `Fecha de diagn?stico` cannot be resolved. Did you mean one of the following? [`Fecha de diagnóstico`, `Fecha de muerte`, `Fecha de notificación`, `Fecha de recuperación`, `ID de caso`].;\n",
      "'Aggregate ['Fecha de diagn?stico], ['Fecha de diagn?stico, count(1) AS count#212L]\n",
      "+- Relation [fecha reporte web#17,ID de caso#18,Fecha de notificación#19,Código DIVIPOLA departamento#20,Nombre departamento#21,Código DIVIPOLA municipio#22,Nombre municipio#23,Edad#24,Unidad de medida de edad#25,Sexo#26,Tipo de contagio#27,Ubicación del caso#28,Estado#29,Código ISO del país#30,Nombre del país#31,Recuperado#32,Fecha de inicio de síntomas#33,Fecha de muerte#34,Fecha de diagnóstico#35,Fecha de recuperación#36,Tipo de recuperación#37,Pertenencia étnica#38,Nombre del grupo étnico#39] csv\n",
      "\n",
      "Traceback (most recent call last):\n",
      "  File \"/mnt1/yarn/usercache/livy/appcache/application_1700874866306_0004/container_1700874866306_0004_01_000001/pyspark.zip/pyspark/sql/group.py\", line 38, in _api\n",
      "    jdf = getattr(self._jgd, name)()\n",
      "  File \"/mnt1/yarn/usercache/livy/appcache/application_1700874866306_0004/container_1700874866306_0004_01_000001/py4j-0.10.9.7-src.zip/py4j/java_gateway.py\", line 1323, in __call__\n",
      "    answer, self.gateway_client, self.target_id, self.name)\n",
      "  File \"/mnt1/yarn/usercache/livy/appcache/application_1700874866306_0004/container_1700874866306_0004_01_000001/pyspark.zip/pyspark/errors/exceptions/captured.py\", line 175, in deco\n",
      "    raise converted from None\n",
      "pyspark.errors.exceptions.captured.AnalysisException: [UNRESOLVED_COLUMN.WITH_SUGGESTION] A column or function parameter with name `Fecha de diagn?stico` cannot be resolved. Did you mean one of the following? [`Fecha de diagnóstico`, `Fecha de muerte`, `Fecha de notificación`, `Fecha de recuperación`, `ID de caso`].;\n",
      "'Aggregate ['Fecha de diagn?stico], ['Fecha de diagn?stico, count(1) AS count#212L]\n",
      "+- Relation [fecha reporte web#17,ID de caso#18,Fecha de notificación#19,Código DIVIPOLA departamento#20,Nombre departamento#21,Código DIVIPOLA municipio#22,Nombre municipio#23,Edad#24,Unidad de medida de edad#25,Sexo#26,Tipo de contagio#27,Ubicación del caso#28,Estado#29,Código ISO del país#30,Nombre del país#31,Recuperado#32,Fecha de inicio de síntomas#33,Fecha de muerte#34,Fecha de diagnóstico#35,Fecha de recuperación#36,Tipo de recuperación#37,Pertenencia étnica#38,Nombre del grupo étnico#39] csv\n",
      "\n",
      "\n"
     ]
    }
   ],
   "source": [
    "df.groupBy(\"Fecha de diagnóstico\").count().orderBy(col(\"count\").desc(), \"Fecha de diagnóstico\").show(10)\n"
   ]
  },
  {
   "cell_type": "code",
   "execution_count": 8,
   "id": "fd948c35",
   "metadata": {},
   "outputs": [
    {
     "data": {
      "application/vnd.jupyter.widget-view+json": {
       "model_id": "",
       "version_major": 2,
       "version_minor": 0
      },
      "text/plain": [
       "FloatProgress(value=0.0, bar_style='info', description='Progress:', layout=Layout(height='25px', width='50%'),…"
      ]
     },
     "metadata": {},
     "output_type": "display_data"
    },
    {
     "name": "stdout",
     "output_type": "stream",
     "text": [
      "+----+-----+\n",
      "|Edad|count|\n",
      "+----+-----+\n",
      "|   1|  485|\n",
      "|   2|  440|\n",
      "|   3|  449|\n",
      "|   4|  373|\n",
      "|   5|  425|\n",
      "|   6|  431|\n",
      "|   7|  442|\n",
      "|   8|  461|\n",
      "|   9|  467|\n",
      "|  10|  530|\n",
      "|  11|  566|\n",
      "|  12|  562|\n",
      "|  13|  531|\n",
      "|  14|  580|\n",
      "|  15|  560|\n",
      "|  16|  600|\n",
      "|  17|  685|\n",
      "|  18| 1160|\n",
      "|  19| 1567|\n",
      "|  20| 1674|\n",
      "+----+-----+\n",
      "only showing top 20 rows"
     ]
    }
   ],
   "source": [
    "df.groupBy(\"Edad\").count().orderBy(\"Edad\").show()\n"
   ]
  },
  {
   "cell_type": "code",
   "execution_count": 17,
   "id": "eb125ebf",
   "metadata": {},
   "outputs": [
    {
     "data": {
      "application/vnd.jupyter.widget-view+json": {
       "model_id": "",
       "version_major": 2,
       "version_minor": 0
      },
      "text/plain": [
       "FloatProgress(value=0.0, bar_style='info', description='Progress:', layout=Layout(height='25px', width='50%'),…"
      ]
     },
     "metadata": {},
     "output_type": "display_data"
    },
    {
     "name": "stdout",
     "output_type": "stream",
     "text": [
      "La tasa de recuperaci?n es: 94.83% y de mortalidad es de 4.66%"
     ]
    }
   ],
   "source": [
    "total = df.count()\n",
    "from pyspark.sql.functions import col\n",
    "\n",
    "recovered = df.filter(col(\"Recuperado\") == \"Recuperado\").count()\n",
    "deceased = df.filter(col(\"Recuperado\") == \"Fallecido\").count() + df.filter(col(\"Recuperado\") == \"fallecido\").count()\n",
    "\n",
    "print(f\"La tasa de recuperación es: {(recovered / total) * 100:.2f}% y de mortalidad es de {(deceased / total) * 100:.2f}%\")\n"
   ]
  },
  {
   "cell_type": "code",
   "execution_count": 10,
   "id": "d1971eaa",
   "metadata": {},
   "outputs": [
    {
     "data": {
      "application/vnd.jupyter.widget-view+json": {
       "model_id": "",
       "version_major": 2,
       "version_minor": 0
      },
      "text/plain": [
       "FloatProgress(value=0.0, bar_style='info', description='Progress:', layout=Layout(height='25px', width='50%'),…"
      ]
     },
     "metadata": {},
     "output_type": "display_data"
    },
    {
     "name": "stdout",
     "output_type": "stream",
     "text": [
      "+----------+\n",
      "|Recuperado|\n",
      "+----------+\n",
      "|Recuperado|\n",
      "| fallecido|\n",
      "| Fallecido|\n",
      "|       N/A|\n",
      "+----------+"
     ]
    }
   ],
   "source": [
    "df.select('Recuperado').distinct().show()"
   ]
  },
  {
   "cell_type": "code",
   "execution_count": null,
   "id": "8b5e63ef",
   "metadata": {},
   "outputs": [],
   "source": []
  },
  {
   "cell_type": "markdown",
   "id": "3f4a9bd7",
   "metadata": {},
   "source": [
    "# Ahora SparkSQL"
   ]
  },
  {
   "cell_type": "code",
   "execution_count": 19,
   "id": "f28c8b45",
   "metadata": {},
   "outputs": [
    {
     "data": {
      "application/vnd.jupyter.widget-view+json": {
       "model_id": "",
       "version_major": 2,
       "version_minor": 0
      },
      "text/plain": [
       "FloatProgress(value=0.0, bar_style='info', description='Progress:', layout=Layout(height='25px', width='50%'),…"
      ]
     },
     "metadata": {},
     "output_type": "display_data"
    }
   ],
   "source": [
    "df.createOrReplaceTempView(\"covid_data\")"
   ]
  },
  {
   "cell_type": "code",
   "execution_count": 20,
   "id": "26e1faa9",
   "metadata": {},
   "outputs": [
    {
     "data": {
      "application/vnd.jupyter.widget-view+json": {
       "model_id": "",
       "version_major": 2,
       "version_minor": 0
      },
      "text/plain": [
       "FloatProgress(value=0.0, bar_style='info', description='Progress:', layout=Layout(height='25px', width='50%'),…"
      ]
     },
     "metadata": {},
     "output_type": "display_data"
    },
    {
     "name": "stdout",
     "output_type": "stream",
     "text": [
      "+-------------------+-----------+\n",
      "|Nombre departamento|total_cases|\n",
      "+-------------------+-----------+\n",
      "|             BOGOTA|      30016|\n",
      "|       BARRANQUILLA|      13065|\n",
      "|          ATLANTICO|      10994|\n",
      "|              VALLE|      10404|\n",
      "|          CARTAGENA|       8333|\n",
      "|          ANTIOQUIA|       4554|\n",
      "|             NARIÑO|       3520|\n",
      "|       CUNDINAMARCA|       2827|\n",
      "|           AMAZONAS|       2317|\n",
      "|              CHOCO|       1636|\n",
      "+-------------------+-----------+"
     ]
    }
   ],
   "source": [
    "spark.sql(\"\"\"\n",
    "    SELECT `Nombre departamento`, COUNT(*) as total_cases\n",
    "    FROM covid_data\n",
    "    GROUP BY `Nombre departamento`\n",
    "    ORDER BY total_cases DESC\n",
    "    LIMIT 10\n",
    "\"\"\").show()\n"
   ]
  },
  {
   "cell_type": "code",
   "execution_count": 21,
   "id": "fb5377a8",
   "metadata": {},
   "outputs": [
    {
     "data": {
      "application/vnd.jupyter.widget-view+json": {
       "model_id": "",
       "version_major": 2,
       "version_minor": 0
      },
      "text/plain": [
       "FloatProgress(value=0.0, bar_style='info', description='Progress:', layout=Layout(height='25px', width='50%'),…"
      ]
     },
     "metadata": {},
     "output_type": "display_data"
    },
    {
     "name": "stdout",
     "output_type": "stream",
     "text": [
      "+----------------+-----------+\n",
      "|Nombre municipio|total_cases|\n",
      "+----------------+-----------+\n",
      "|          BOGOTA|      30016|\n",
      "|    BARRANQUILLA|      13065|\n",
      "|       CARTAGENA|       8333|\n",
      "|            CALI|       7747|\n",
      "|         SOLEDAD|       6233|\n",
      "|         LETICIA|       2194|\n",
      "|        MEDELLIN|       2137|\n",
      "|          TUMACO|       1501|\n",
      "|    BUENAVENTURA|       1453|\n",
      "|          QUIBDO|       1367|\n",
      "+----------------+-----------+"
     ]
    }
   ],
   "source": [
    "spark.sql(\"\"\"\n",
    "    SELECT `Nombre municipio`, COUNT(*) as total_cases\n",
    "    FROM covid_data\n",
    "    GROUP BY `Nombre municipio`\n",
    "    ORDER BY total_cases DESC\n",
    "    LIMIT 10\n",
    "\"\"\").show()\n"
   ]
  },
  {
   "cell_type": "code",
   "execution_count": 22,
   "id": "c6bda919",
   "metadata": {},
   "outputs": [
    {
     "data": {
      "application/vnd.jupyter.widget-view+json": {
       "model_id": "",
       "version_major": 2,
       "version_minor": 0
      },
      "text/plain": [
       "FloatProgress(value=0.0, bar_style='info', description='Progress:', layout=Layout(height='25px', width='50%'),…"
      ]
     },
     "metadata": {},
     "output_type": "display_data"
    },
    {
     "name": "stderr",
     "output_type": "stream",
     "text": [
      "An error was encountered:\n",
      "[UNRESOLVED_COLUMN.WITH_SUGGESTION] A column or function parameter with name `Fecha de diagn?stico` cannot be resolved. Did you mean one of the following? [`covid_data`.`Fecha de diagnóstico`, `covid_data`.`Estado`, `covid_data`.`Sexo`, `covid_data`.`Edad`, `covid_data`.`ID de caso`].; line 2 pos 11;\n",
      "'GlobalLimit 10\n",
      "+- 'LocalLimit 10\n",
      "   +- 'Sort ['total_cases DESC NULLS LAST, 'Fecha de diagn?stico ASC NULLS FIRST], true\n",
      "      +- 'Aggregate ['Fecha de diagn?stico], ['Fecha de diagn?stico, count(1) AS total_cases#540L]\n",
      "         +- SubqueryAlias covid_data\n",
      "            +- View (`covid_data`, [fecha reporte web#17,ID de caso#18,Fecha de notificación#19,Código DIVIPOLA departamento#20,Nombre departamento#21,Código DIVIPOLA municipio#22,Nombre municipio#23,Edad#24,Unidad de medida de edad#25,Sexo#26,Tipo de contagio#27,Ubicación del caso#28,Estado#29,Código ISO del país#30,Nombre del país#31,Recuperado#32,Fecha de inicio de síntomas#33,Fecha de muerte#34,Fecha de diagnóstico#35,Fecha de recuperación#36,Tipo de recuperación#37,Pertenencia étnica#38,Nombre del grupo étnico#39])\n",
      "               +- Relation [fecha reporte web#17,ID de caso#18,Fecha de notificación#19,Código DIVIPOLA departamento#20,Nombre departamento#21,Código DIVIPOLA municipio#22,Nombre municipio#23,Edad#24,Unidad de medida de edad#25,Sexo#26,Tipo de contagio#27,Ubicación del caso#28,Estado#29,Código ISO del país#30,Nombre del país#31,Recuperado#32,Fecha de inicio de síntomas#33,Fecha de muerte#34,Fecha de diagnóstico#35,Fecha de recuperación#36,Tipo de recuperación#37,Pertenencia étnica#38,Nombre del grupo étnico#39] csv\n",
      "\n",
      "Traceback (most recent call last):\n",
      "  File \"/mnt1/yarn/usercache/livy/appcache/application_1700874866306_0004/container_1700874866306_0004_01_000001/pyspark.zip/pyspark/sql/session.py\", line 1440, in sql\n",
      "    return DataFrame(self._jsparkSession.sql(sqlQuery, litArgs), self)\n",
      "  File \"/mnt1/yarn/usercache/livy/appcache/application_1700874866306_0004/container_1700874866306_0004_01_000001/py4j-0.10.9.7-src.zip/py4j/java_gateway.py\", line 1323, in __call__\n",
      "    answer, self.gateway_client, self.target_id, self.name)\n",
      "  File \"/mnt1/yarn/usercache/livy/appcache/application_1700874866306_0004/container_1700874866306_0004_01_000001/pyspark.zip/pyspark/errors/exceptions/captured.py\", line 175, in deco\n",
      "    raise converted from None\n",
      "pyspark.errors.exceptions.captured.AnalysisException: [UNRESOLVED_COLUMN.WITH_SUGGESTION] A column or function parameter with name `Fecha de diagn?stico` cannot be resolved. Did you mean one of the following? [`covid_data`.`Fecha de diagnóstico`, `covid_data`.`Estado`, `covid_data`.`Sexo`, `covid_data`.`Edad`, `covid_data`.`ID de caso`].; line 2 pos 11;\n",
      "'GlobalLimit 10\n",
      "+- 'LocalLimit 10\n",
      "   +- 'Sort ['total_cases DESC NULLS LAST, 'Fecha de diagn?stico ASC NULLS FIRST], true\n",
      "      +- 'Aggregate ['Fecha de diagn?stico], ['Fecha de diagn?stico, count(1) AS total_cases#540L]\n",
      "         +- SubqueryAlias covid_data\n",
      "            +- View (`covid_data`, [fecha reporte web#17,ID de caso#18,Fecha de notificación#19,Código DIVIPOLA departamento#20,Nombre departamento#21,Código DIVIPOLA municipio#22,Nombre municipio#23,Edad#24,Unidad de medida de edad#25,Sexo#26,Tipo de contagio#27,Ubicación del caso#28,Estado#29,Código ISO del país#30,Nombre del país#31,Recuperado#32,Fecha de inicio de síntomas#33,Fecha de muerte#34,Fecha de diagnóstico#35,Fecha de recuperación#36,Tipo de recuperación#37,Pertenencia étnica#38,Nombre del grupo étnico#39])\n",
      "               +- Relation [fecha reporte web#17,ID de caso#18,Fecha de notificación#19,Código DIVIPOLA departamento#20,Nombre departamento#21,Código DIVIPOLA municipio#22,Nombre municipio#23,Edad#24,Unidad de medida de edad#25,Sexo#26,Tipo de contagio#27,Ubicación del caso#28,Estado#29,Código ISO del país#30,Nombre del país#31,Recuperado#32,Fecha de inicio de síntomas#33,Fecha de muerte#34,Fecha de diagnóstico#35,Fecha de recuperación#36,Tipo de recuperación#37,Pertenencia étnica#38,Nombre del grupo étnico#39] csv\n",
      "\n",
      "\n"
     ]
    }
   ],
   "source": [
    "spark.sql(\"\"\"\n",
    "    SELECT `Fecha de diagnóstico`, COUNT(*) as total_cases\n",
    "    FROM covid_data\n",
    "    GROUP BY `Fecha de diagnóstico`\n",
    "    ORDER BY total_cases DESC, `Fecha de diagnóstico`\n",
    "    LIMIT 10\n",
    "\"\"\").show()\n"
   ]
  },
  {
   "cell_type": "code",
   "execution_count": 23,
   "id": "30b72dfc",
   "metadata": {},
   "outputs": [
    {
     "data": {
      "application/vnd.jupyter.widget-view+json": {
       "model_id": "",
       "version_major": 2,
       "version_minor": 0
      },
      "text/plain": [
       "FloatProgress(value=0.0, bar_style='info', description='Progress:', layout=Layout(height='25px', width='50%'),…"
      ]
     },
     "metadata": {},
     "output_type": "display_data"
    },
    {
     "name": "stdout",
     "output_type": "stream",
     "text": [
      "+----+-----------+\n",
      "|Edad|total_cases|\n",
      "+----+-----------+\n",
      "|   1|        485|\n",
      "|   2|        440|\n",
      "|   3|        449|\n",
      "|   4|        373|\n",
      "|   5|        425|\n",
      "|   6|        431|\n",
      "|   7|        442|\n",
      "|   8|        461|\n",
      "|   9|        467|\n",
      "|  10|        530|\n",
      "|  11|        566|\n",
      "|  12|        562|\n",
      "|  13|        531|\n",
      "|  14|        580|\n",
      "|  15|        560|\n",
      "|  16|        600|\n",
      "|  17|        685|\n",
      "|  18|       1160|\n",
      "|  19|       1567|\n",
      "|  20|       1674|\n",
      "+----+-----------+\n",
      "only showing top 20 rows"
     ]
    }
   ],
   "source": [
    "spark.sql(\"\"\"\n",
    "    SELECT Edad, COUNT(*) as total_cases\n",
    "    FROM covid_data\n",
    "    GROUP BY Edad\n",
    "    ORDER BY Edad\n",
    "\"\"\").show()\n"
   ]
  },
  {
   "cell_type": "code",
   "execution_count": 24,
   "id": "6034de60",
   "metadata": {},
   "outputs": [
    {
     "data": {
      "application/vnd.jupyter.widget-view+json": {
       "model_id": "",
       "version_major": 2,
       "version_minor": 0
      },
      "text/plain": [
       "FloatProgress(value=0.0, bar_style='info', description='Progress:', layout=Layout(height='25px', width='50%'),…"
      ]
     },
     "metadata": {},
     "output_type": "display_data"
    },
    {
     "name": "stdout",
     "output_type": "stream",
     "text": [
      "+-----------------+\n",
      "|    recovery_rate|\n",
      "+-----------------+\n",
      "|94.83200000000001|\n",
      "+-----------------+"
     ]
    }
   ],
   "source": [
    "spark.sql(\"\"\"\n",
    "    SELECT\n",
    "        (SUM(CASE WHEN Recuperado = 'Recuperado' THEN 1 ELSE 0 END) / COUNT(*)) * 100 as recovery_rate\n",
    "    FROM covid_data\n",
    "\"\"\").show()\n"
   ]
  },
  {
   "cell_type": "code",
   "execution_count": 25,
   "id": "40e6149e",
   "metadata": {},
   "outputs": [
    {
     "data": {
      "application/vnd.jupyter.widget-view+json": {
       "model_id": "",
       "version_major": 2,
       "version_minor": 0
      },
      "text/plain": [
       "FloatProgress(value=0.0, bar_style='info', description='Progress:', layout=Layout(height='25px', width='50%'),…"
      ]
     },
     "metadata": {},
     "output_type": "display_data"
    },
    {
     "name": "stdout",
     "output_type": "stream",
     "text": [
      "+--------------+\n",
      "|mortality_rate|\n",
      "+--------------+\n",
      "|         5.633|\n",
      "+--------------+"
     ]
    }
   ],
   "source": [
    "mortality_rate_result = spark.sql( \"\"\"\n",
    "    SELECT \n",
    "        (SUM(CASE WHEN `Fecha de muerte` IS NOT NULL THEN 1 ELSE 0 END) / COUNT(*)) * 100 as mortality_rate\n",
    "    FROM covid_data\n",
    "\"\"\"\n",
    ").show()"
   ]
  },
  {
   "cell_type": "code",
   "execution_count": null,
   "id": "a792a5ca",
   "metadata": {},
   "outputs": [],
   "source": []
  }
 ],
 "metadata": {
  "kernelspec": {
   "display_name": "PySpark",
   "language": "python",
   "name": "pysparkkernel"
  },
  "language_info": {
   "codemirror_mode": {
    "name": "python",
    "version": 3
   },
   "file_extension": ".py",
   "mimetype": "text/x-python",
   "name": "pyspark",
   "pygments_lexer": "python3"
  }
 },
 "nbformat": 4,
 "nbformat_minor": 5
}
